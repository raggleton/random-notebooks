{
 "cells": [
  {
   "cell_type": "markdown",
   "metadata": {},
   "source": [
    "This notebook investigates a mechanism by which a fit can start off \"smarter\" i.e. with parameters in the right ballpark, as ROOT can sometimes be picky"
   ]
  },
  {
   "cell_type": "code",
   "execution_count": 1,
   "metadata": {
    "collapsed": true
   },
   "outputs": [],
   "source": [
    "import numpy as np\n",
    "import scipy\n",
    "import pandas as pd\n",
    "from scipy.stats import chisquare\n",
    "import matplotlib.pyplot as plt"
   ]
  },
  {
   "cell_type": "code",
   "execution_count": 2,
   "metadata": {
    "collapsed": false
   },
   "outputs": [
    {
     "data": {
      "application/javascript": [
       "require(['codemirror/mode/clike/clike'], function(Clike) { console.log('ROOTaaS - C++ CodeMirror module loaded'); });"
      ]
     },
     "metadata": {},
     "output_type": "display_data"
    },
    {
     "data": {
      "application/javascript": [
       "IPython.CodeCell.config_defaults.highlight_modes['magic_text/x-c++src'] = {'reg':[/^%%cpp/]};"
      ]
     },
     "metadata": {},
     "output_type": "display_data"
    },
    {
     "name": "stdout",
     "output_type": "stream",
     "text": [
      "Welcome to ROOTaaS 6.06/04\n"
     ]
    }
   ],
   "source": [
    "import ROOT"
   ]
  },
  {
   "cell_type": "code",
   "execution_count": 3,
   "metadata": {
    "collapsed": true
   },
   "outputs": [],
   "source": [
    "ROOT.gStyle.SetOptFit(1111)\n",
    "ROOT.TH1.SetDefaultSumw2(True)\n"
   ]
  },
  {
   "cell_type": "code",
   "execution_count": 4,
   "metadata": {
    "collapsed": true
   },
   "outputs": [],
   "source": [
    "%matplotlib inline"
   ]
  },
  {
   "cell_type": "code",
   "execution_count": 5,
   "metadata": {
    "collapsed": false
   },
   "outputs": [],
   "source": [
    "pd.set_option('display.max_colwidth', 120)\n",
    "pd.set_option('display.max_columns', 200)\n",
    "pd.set_option('display.max_rows', 500)\n",
    "pd.set_option('display.precision', 10)"
   ]
  },
  {
   "cell_type": "code",
   "execution_count": 6,
   "metadata": {
    "collapsed": false
   },
   "outputs": [],
   "source": [
    "import common_utils as cu\n",
    "import runCalibration as rc"
   ]
  },
  {
   "cell_type": "code",
   "execution_count": 7,
   "metadata": {
    "collapsed": false
   },
   "outputs": [],
   "source": [
    "pairs_file = cu.open_root_file(\"pairs_QCDFlatFall15PU0to50NzshcalRaw_MP_ak4_ref10to5000_l10to5000_dr0p4_fall15JEC.root\")"
   ]
  },
  {
   "cell_type": "code",
   "execution_count": 8,
   "metadata": {
    "collapsed": false
   },
   "outputs": [],
   "source": [
    "pairs_tree = cu.get_from_file(pairs_file, \"valid\")"
   ]
  },
  {
   "cell_type": "code",
   "execution_count": 9,
   "metadata": {
    "collapsed": false
   },
   "outputs": [],
   "source": [
    "c = ROOT.TCanvas(\"canv\", \"\", 600, 400)"
   ]
  },
  {
   "cell_type": "code",
   "execution_count": 142,
   "metadata": {
    "collapsed": false
   },
   "outputs": [
    {
     "name": "stderr",
     "output_type": "stream",
     "text": [
      "TFile::Append:0: RuntimeWarning: Replacing existing TH1: hrsp (Potential memory leak).\n"
     ]
    }
   ],
   "source": [
    "h = ROOT.TH1D(\"hrsp\", \";response;\", 100, 0, 5)"
   ]
  },
  {
   "cell_type": "code",
   "execution_count": 143,
   "metadata": {
    "collapsed": false
   },
   "outputs": [
    {
     "data": {
      "image/png": "[encoded data removed]",
      "text/plain": [
       "<IPython.core.display.Image object>"
      ]
     },
     "metadata": {},
     "output_type": "display_data"
    }
   ],
   "source": [
    "pairs_tree.Draw(\"rsp>>hrsp\", \"0<TMath::Abs(eta) && TMath::Abs(eta)<0.348 && ptRef<240 && ptRef>200 && numPUVertices>15 && numPUVertices<25\")\n",
    "c.Draw()"
   ]
  },
  {
   "cell_type": "code",
   "execution_count": 55,
   "metadata": {
    "collapsed": false
   },
   "outputs": [],
   "source": [
    "burr3_fit = ROOT.TF1(\"burr3\", \"[2]*[0]*[1]*pow((x-[3])/[4], -1.-[0]) / pow(1+pow((x-[3])/[4], -[0]), 1+[1] )\", 0, 5)"
   ]
  },
  {
   "cell_type": "code",
   "execution_count": 56,
   "metadata": {
    "collapsed": true
   },
   "outputs": [],
   "source": [
    "def setup_burr3(p0=3.64850, p1=7.06077e-01, p2=1.28317e+04, p3=-1.50503e-02, p4=4.87032e-01):\n",
    "    print \"using\", p0, p1, p2, p3, p4\n",
    "    burr3_fit.SetParameter(0, p0)  # shape\n",
    "    burr3_fit.SetParameter(1, p1)  # shape\n",
    "    burr3_fit.SetParameter(2, p2)  # Normalisation\n",
    "    burr3_fit.SetParameter(3, p3)  # location\n",
    "    burr3_fit.SetParameter(4, p4)  # scale"
   ]
  },
  {
   "cell_type": "code",
   "execution_count": 57,
   "metadata": {
    "collapsed": false
   },
   "outputs": [
    {
     "name": "stdout",
     "output_type": "stream",
     "text": [
      "using 3.6485 0.706077 12831.7 -0.0150503 0.487032\n"
     ]
    }
   ],
   "source": [
    "setup_burr3()"
   ]
  },
  {
   "cell_type": "code",
   "execution_count": 15,
   "metadata": {
    "collapsed": false
   },
   "outputs": [
    {
     "name": "stdout",
     "output_type": "stream",
     "text": [
      "<class 'pandas.io.pytables.HDFStore'>\n",
      "File path: out_burr_quantiles.h5\n",
      "/results            frame        (shape->[86792,10])\n",
      "/xValues            frame        (shape->[1,5])     \n"
     ]
    }
   ],
   "source": [
    "with pd.HDFStore('out_burr_quantiles.h5') as store:\n",
    "    print store\n",
    "    df_qvals = store['xValues']\n",
    "    df = store['results']"
   ]
  },
  {
   "cell_type": "code",
   "execution_count": 16,
   "metadata": {
    "collapsed": true
   },
   "outputs": [],
   "source": [
    "df = df[(df!=0).all(axis=1)]"
   ]
  },
  {
   "cell_type": "code",
   "execution_count": 17,
   "metadata": {
    "collapsed": false
   },
   "outputs": [
    {
     "name": "stdout",
     "output_type": "stream",
     "text": [
      "7.2839050293 MB\n"
     ]
    }
   ],
   "source": [
    "import sys\n",
    "print sys.getsizeof(df) / (1024.*1024), \"MB\""
   ]
  },
  {
   "cell_type": "code",
   "execution_count": 18,
   "metadata": {
    "collapsed": false
   },
   "outputs": [
    {
     "data": {
      "text/html": [
       "<div>\n",
       "<table border=\"1\" class=\"dataframe\">\n",
       "  <thead>\n",
       "    <tr style=\"text-align: right;\">\n",
       "      <th></th>\n",
       "      <th>p0</th>\n",
       "      <th>p1</th>\n",
       "      <th>p2</th>\n",
       "      <th>p3</th>\n",
       "      <th>p4</th>\n",
       "      <th>q0</th>\n",
       "      <th>q1</th>\n",
       "      <th>q2</th>\n",
       "      <th>q3</th>\n",
       "      <th>q4</th>\n",
       "    </tr>\n",
       "  </thead>\n",
       "  <tbody>\n",
       "    <tr>\n",
       "      <th>35098</th>\n",
       "      <td>3.5</td>\n",
       "      <td>7.0</td>\n",
       "      <td>1.0</td>\n",
       "      <td>-4.0</td>\n",
       "      <td>9.5</td>\n",
       "      <td>3.4083542151</td>\n",
       "      <td>4.1746269876</td>\n",
       "      <td>4.5631476325</td>\n",
       "      <td>4.8120232738</td>\n",
       "      <td>4.9657337411</td>\n",
       "    </tr>\n",
       "    <tr>\n",
       "      <th>35548</th>\n",
       "      <td>3.5</td>\n",
       "      <td>8.0</td>\n",
       "      <td>1.0</td>\n",
       "      <td>-2.5</td>\n",
       "      <td>4.5</td>\n",
       "      <td>2.4878084572</td>\n",
       "      <td>3.3970208632</td>\n",
       "      <td>4.0211679794</td>\n",
       "      <td>4.5280115493</td>\n",
       "      <td>4.9065180859</td>\n",
       "    </tr>\n",
       "    <tr>\n",
       "      <th>63896</th>\n",
       "      <td>6.5</td>\n",
       "      <td>7.0</td>\n",
       "      <td>1.0</td>\n",
       "      <td>-5.0</td>\n",
       "      <td>2.5</td>\n",
       "      <td>0.0408684497</td>\n",
       "      <td>0.2320826627</td>\n",
       "      <td>0.5716445802</td>\n",
       "      <td>1.1873477470</td>\n",
       "      <td>2.7380984830</td>\n",
       "    </tr>\n",
       "    <tr>\n",
       "      <th>30594</th>\n",
       "      <td>3.0</td>\n",
       "      <td>7.0</td>\n",
       "      <td>1.0</td>\n",
       "      <td>-2.0</td>\n",
       "      <td>1.5</td>\n",
       "      <td>0.1448671270</td>\n",
       "      <td>0.6127502211</td>\n",
       "      <td>1.2194014241</td>\n",
       "      <td>2.1355572629</td>\n",
       "      <td>3.8835436863</td>\n",
       "    </tr>\n",
       "    <tr>\n",
       "      <th>15582</th>\n",
       "      <td>1.5</td>\n",
       "      <td>10.0</td>\n",
       "      <td>1.0</td>\n",
       "      <td>-2.5</td>\n",
       "      <td>2.5</td>\n",
       "      <td>1.0436727660</td>\n",
       "      <td>2.3730902739</td>\n",
       "      <td>3.3788595343</td>\n",
       "      <td>4.2178355014</td>\n",
       "      <td>4.8456782474</td>\n",
       "    </tr>\n",
       "    <tr>\n",
       "      <th>83747</th>\n",
       "      <td>9.0</td>\n",
       "      <td>2.0</td>\n",
       "      <td>1.0</td>\n",
       "      <td>-3.5</td>\n",
       "      <td>5.5</td>\n",
       "      <td>1.2780262976</td>\n",
       "      <td>1.9767476913</td>\n",
       "      <td>2.5220866271</td>\n",
       "      <td>3.1643425053</td>\n",
       "      <td>4.2367426857</td>\n",
       "    </tr>\n",
       "    <tr>\n",
       "      <th>36998</th>\n",
       "      <td>4.0</td>\n",
       "      <td>1.0</td>\n",
       "      <td>1.0</td>\n",
       "      <td>-0.5</td>\n",
       "      <td>8.0</td>\n",
       "      <td>1.9796041458</td>\n",
       "      <td>3.2415972465</td>\n",
       "      <td>4.0042043038</td>\n",
       "      <td>4.5492962610</td>\n",
       "      <td>4.9148707487</td>\n",
       "    </tr>\n",
       "    <tr>\n",
       "      <th>20330</th>\n",
       "      <td>2.0</td>\n",
       "      <td>6.5</td>\n",
       "      <td>1.0</td>\n",
       "      <td>-2.0</td>\n",
       "      <td>4.5</td>\n",
       "      <td>2.0408171010</td>\n",
       "      <td>3.1990193583</td>\n",
       "      <td>3.9484928417</td>\n",
       "      <td>4.5141247517</td>\n",
       "      <td>4.9070660864</td>\n",
       "    </tr>\n",
       "    <tr>\n",
       "      <th>92286</th>\n",
       "      <td>10.0</td>\n",
       "      <td>2.0</td>\n",
       "      <td>1.0</td>\n",
       "      <td>-3.5</td>\n",
       "      <td>2.5</td>\n",
       "      <td>0.0189220688</td>\n",
       "      <td>0.1068289471</td>\n",
       "      <td>0.2608541679</td>\n",
       "      <td>0.5357332080</td>\n",
       "      <td>1.2440519142</td>\n",
       "    </tr>\n",
       "    <tr>\n",
       "      <th>63440</th>\n",
       "      <td>6.5</td>\n",
       "      <td>5.5</td>\n",
       "      <td>1.0</td>\n",
       "      <td>-2.0</td>\n",
       "      <td>1.0</td>\n",
       "      <td>0.0164155804</td>\n",
       "      <td>0.0933784395</td>\n",
       "      <td>0.2311254565</td>\n",
       "      <td>0.4853397311</td>\n",
       "      <td>1.1846807620</td>\n",
       "    </tr>\n",
       "  </tbody>\n",
       "</table>\n",
       "</div>"
      ],
      "text/plain": [
       "         p0    p1   p2   p3   p4            q0            q1            q2  \\\n",
       "35098   3.5   7.0  1.0 -4.0  9.5  3.4083542151  4.1746269876  4.5631476325   \n",
       "35548   3.5   8.0  1.0 -2.5  4.5  2.4878084572  3.3970208632  4.0211679794   \n",
       "63896   6.5   7.0  1.0 -5.0  2.5  0.0408684497  0.2320826627  0.5716445802   \n",
       "30594   3.0   7.0  1.0 -2.0  1.5  0.1448671270  0.6127502211  1.2194014241   \n",
       "15582   1.5  10.0  1.0 -2.5  2.5  1.0436727660  2.3730902739  3.3788595343   \n",
       "83747   9.0   2.0  1.0 -3.5  5.5  1.2780262976  1.9767476913  2.5220866271   \n",
       "36998   4.0   1.0  1.0 -0.5  8.0  1.9796041458  3.2415972465  4.0042043038   \n",
       "20330   2.0   6.5  1.0 -2.0  4.5  2.0408171010  3.1990193583  3.9484928417   \n",
       "92286  10.0   2.0  1.0 -3.5  2.5  0.0189220688  0.1068289471  0.2608541679   \n",
       "63440   6.5   5.5  1.0 -2.0  1.0  0.0164155804  0.0933784395  0.2311254565   \n",
       "\n",
       "                 q3            q4  \n",
       "35098  4.8120232738  4.9657337411  \n",
       "35548  4.5280115493  4.9065180859  \n",
       "63896  1.1873477470  2.7380984830  \n",
       "30594  2.1355572629  3.8835436863  \n",
       "15582  4.2178355014  4.8456782474  \n",
       "83747  3.1643425053  4.2367426857  \n",
       "36998  4.5492962610  4.9148707487  \n",
       "20330  4.5141247517  4.9070660864  \n",
       "92286  0.5357332080  1.2440519142  \n",
       "63440  0.4853397311  1.1846807620  "
      ]
     },
     "execution_count": 18,
     "metadata": {},
     "output_type": "execute_result"
    }
   ],
   "source": [
    "df.sample(n=10)"
   ]
  },
  {
   "cell_type": "code",
   "execution_count": 19,
   "metadata": {
    "collapsed": false
   },
   "outputs": [
    {
     "data": {
      "text/plain": [
       "(86792, 10)"
      ]
     },
     "execution_count": 19,
     "metadata": {},
     "output_type": "execute_result"
    }
   ],
   "source": [
    "df.shape"
   ]
  },
  {
   "cell_type": "code",
   "execution_count": 20,
   "metadata": {
    "collapsed": false
   },
   "outputs": [
    {
     "data": {
      "text/html": [
       "<div>\n",
       "<table border=\"1\" class=\"dataframe\">\n",
       "  <thead>\n",
       "    <tr style=\"text-align: right;\">\n",
       "      <th></th>\n",
       "      <th>q0</th>\n",
       "      <th>q1</th>\n",
       "      <th>q2</th>\n",
       "      <th>q3</th>\n",
       "      <th>q4</th>\n",
       "    </tr>\n",
       "  </thead>\n",
       "  <tbody>\n",
       "    <tr>\n",
       "      <th>0</th>\n",
       "      <td>0.05</td>\n",
       "      <td>0.25</td>\n",
       "      <td>0.5</td>\n",
       "      <td>0.75</td>\n",
       "      <td>0.95</td>\n",
       "    </tr>\n",
       "  </tbody>\n",
       "</table>\n",
       "</div>"
      ],
      "text/plain": [
       "     q0    q1   q2    q3    q4\n",
       "0  0.05  0.25  0.5  0.75  0.95"
      ]
     },
     "execution_count": 20,
     "metadata": {},
     "output_type": "execute_result"
    }
   ],
   "source": [
    "df_qvals"
   ]
  },
  {
   "cell_type": "code",
   "execution_count": 21,
   "metadata": {
    "collapsed": false
   },
   "outputs": [],
   "source": [
    "quantiles = df_qvals.iloc[0].values"
   ]
  },
  {
   "cell_type": "code",
   "execution_count": 86,
   "metadata": {
    "collapsed": false
   },
   "outputs": [],
   "source": [
    "# get quantiles from histogram\n",
    "def get_hist_quanties(hist, quantiles):\n",
    "    qvals = np.ndarray(len(quantiles), 'd')\n",
    "    hist.GetQuantiles(len(quantiles), qvals, quantiles)\n",
    "    return qvals"
   ]
  },
  {
   "cell_type": "code",
   "execution_count": 144,
   "metadata": {
    "collapsed": false
   },
   "outputs": [],
   "source": [
    "hist_quantiles = get_hist_quanties(h, df_qvals.iloc[0].values)"
   ]
  },
  {
   "cell_type": "code",
   "execution_count": 145,
   "metadata": {
    "collapsed": false
   },
   "outputs": [],
   "source": [
    "df2 = df.copy()"
   ]
  },
  {
   "cell_type": "code",
   "execution_count": 146,
   "metadata": {
    "collapsed": false
   },
   "outputs": [],
   "source": [
    "for i, qx in enumerate(df_qvals.columns):\n",
    "#     print qx, i\n",
    "    df2[qx] = (df2[qx] - hist_quantiles[i])**2\n",
    "df2['var'] = df2[df_qvals.columns.values].sum(axis=1)"
   ]
  },
  {
   "cell_type": "code",
   "execution_count": 147,
   "metadata": {
    "collapsed": false
   },
   "outputs": [],
   "source": [
    "df2 = df2.sort_values('var')"
   ]
  },
  {
   "cell_type": "code",
   "execution_count": 148,
   "metadata": {
    "collapsed": true
   },
   "outputs": [],
   "source": [
    "param_cols = [p for p in df.columns.values if p.startswith('p')]"
   ]
  },
  {
   "cell_type": "code",
   "execution_count": 149,
   "metadata": {
    "collapsed": false
   },
   "outputs": [],
   "source": [
    "df_chosen = df2[param_cols].head(10)"
   ]
  },
  {
   "cell_type": "code",
   "execution_count": 150,
   "metadata": {
    "collapsed": false
   },
   "outputs": [
    {
     "data": {
      "text/html": [
       "<div>\n",
       "<table border=\"1\" class=\"dataframe\">\n",
       "  <thead>\n",
       "    <tr style=\"text-align: right;\">\n",
       "      <th></th>\n",
       "      <th>p0</th>\n",
       "      <th>p1</th>\n",
       "      <th>p2</th>\n",
       "      <th>p3</th>\n",
       "      <th>p4</th>\n",
       "    </tr>\n",
       "  </thead>\n",
       "  <tbody>\n",
       "    <tr>\n",
       "      <th>65666</th>\n",
       "      <td>7.0</td>\n",
       "      <td>1.0</td>\n",
       "      <td>1.0</td>\n",
       "      <td>3.5</td>\n",
       "      <td>2.5</td>\n",
       "    </tr>\n",
       "    <tr>\n",
       "      <th>83434</th>\n",
       "      <td>9.0</td>\n",
       "      <td>1.0</td>\n",
       "      <td>1.0</td>\n",
       "      <td>4.0</td>\n",
       "      <td>3.0</td>\n",
       "    </tr>\n",
       "    <tr>\n",
       "      <th>83413</th>\n",
       "      <td>9.0</td>\n",
       "      <td>1.0</td>\n",
       "      <td>1.0</td>\n",
       "      <td>3.5</td>\n",
       "      <td>2.5</td>\n",
       "    </tr>\n",
       "    <tr>\n",
       "      <th>47129</th>\n",
       "      <td>5.0</td>\n",
       "      <td>1.0</td>\n",
       "      <td>1.0</td>\n",
       "      <td>4.5</td>\n",
       "      <td>3.5</td>\n",
       "    </tr>\n",
       "    <tr>\n",
       "      <th>47151</th>\n",
       "      <td>5.0</td>\n",
       "      <td>1.0</td>\n",
       "      <td>1.0</td>\n",
       "      <td>5.0</td>\n",
       "      <td>4.0</td>\n",
       "    </tr>\n",
       "    <tr>\n",
       "      <th>47108</th>\n",
       "      <td>5.0</td>\n",
       "      <td>1.0</td>\n",
       "      <td>1.0</td>\n",
       "      <td>4.0</td>\n",
       "      <td>3.0</td>\n",
       "    </tr>\n",
       "    <tr>\n",
       "      <th>27330</th>\n",
       "      <td>3.0</td>\n",
       "      <td>1.0</td>\n",
       "      <td>1.0</td>\n",
       "      <td>4.0</td>\n",
       "      <td>3.0</td>\n",
       "    </tr>\n",
       "    <tr>\n",
       "      <th>27351</th>\n",
       "      <td>3.0</td>\n",
       "      <td>1.0</td>\n",
       "      <td>1.0</td>\n",
       "      <td>4.5</td>\n",
       "      <td>3.5</td>\n",
       "    </tr>\n",
       "    <tr>\n",
       "      <th>65730</th>\n",
       "      <td>7.0</td>\n",
       "      <td>1.0</td>\n",
       "      <td>1.0</td>\n",
       "      <td>5.0</td>\n",
       "      <td>4.0</td>\n",
       "    </tr>\n",
       "    <tr>\n",
       "      <th>27309</th>\n",
       "      <td>3.0</td>\n",
       "      <td>1.0</td>\n",
       "      <td>1.0</td>\n",
       "      <td>3.5</td>\n",
       "      <td>2.5</td>\n",
       "    </tr>\n",
       "  </tbody>\n",
       "</table>\n",
       "</div>"
      ],
      "text/plain": [
       "        p0   p1   p2   p3   p4\n",
       "65666  7.0  1.0  1.0  3.5  2.5\n",
       "83434  9.0  1.0  1.0  4.0  3.0\n",
       "83413  9.0  1.0  1.0  3.5  2.5\n",
       "47129  5.0  1.0  1.0  4.5  3.5\n",
       "47151  5.0  1.0  1.0  5.0  4.0\n",
       "47108  5.0  1.0  1.0  4.0  3.0\n",
       "27330  3.0  1.0  1.0  4.0  3.0\n",
       "27351  3.0  1.0  1.0  4.5  3.5\n",
       "65730  7.0  1.0  1.0  5.0  4.0\n",
       "27309  3.0  1.0  1.0  3.5  2.5"
      ]
     },
     "execution_count": 150,
     "metadata": {},
     "output_type": "execute_result"
    }
   ],
   "source": [
    "df_chosen\n"
   ]
  },
  {
   "cell_type": "code",
   "execution_count": 154,
   "metadata": {
    "collapsed": false
   },
   "outputs": [
    {
     "name": "stdout",
     "output_type": "stream",
     "text": [
      " [  7.00000000e+00   1.00000000e+00   1.05574299e-18   3.50000000e+00\n",
      "   2.50000000e+00]\n",
      "using 7.0 1.0 1.05574298855e-18 3.5 2.5\n",
      "[  9.00000000e+00   1.00000000e+00   4.95732259e-19   4.00000000e+00\n",
      "   3.00000000e+00]\n",
      "using 9.0 1.0 4.95732259067e-19 4.0 3.0\n",
      "[  9.00000000e+00   1.00000000e+00   6.61063781e-19   3.50000000e+00\n",
      "   2.50000000e+00]\n",
      "using 9.0 1.0 6.61063781475e-19 3.5 2.5\n",
      "[  5.00000000e+00   1.00000000e+00   1.69346263e-18   4.50000000e+00\n",
      "   3.50000000e+00]\n",
      "using 5.0 1.0 1.69346263115e-18 4.5 3.5\n",
      "[  5.00000000e+00   1.00000000e+00   2.10753448e-19   5.00000000e+00\n",
      "   4.00000000e+00]\n",
      "using 5.0 1.0 2.10753448058e-19 5.0 4.0\n",
      "[  5.00000000e+00   1.00000000e+00   1.45457721e-19   4.00000000e+00\n",
      "   3.00000000e+00]\n",
      "using 5.0 1.0 1.45457720917e-19 4.0 3.0\n",
      "[ 3.  1.  1.  4.  3.]\n",
      "using 3.0 1.0 1.0 4.0 3.0\n",
      "[ 3.   1.   1.   4.5  3.5]\n",
      "using 3.0 1.0 1.0 4.5 3.5\n",
      "[ 7.  1.  1.  5.  4.]\n",
      "using 7.0 1.0 1.0 5.0 4.0\n",
      "[ 3.   1.   1.   3.5  2.5]\n",
      "using 3.0 1.0 1.0 3.5 2.5\n"
     ]
    },
    {
     "data": {
      "text/plain": [
       "<matplotlib.legend.Legend at 0x127498190>"
      ]
     },
     "execution_count": 154,
     "metadata": {},
     "output_type": "execute_result"
    },
    {
     "data": {
      "image/png": "[encoded data removed]",
      "text/plain": [
       "<matplotlib.figure.Figure at 0x1249c3990>"
      ]
     },
     "metadata": {},
     "output_type": "display_data"
    }
   ],
   "source": [
    "for row in df_chosen.iterrows():\n",
    "    print row[1].values\n",
    "    xvals = np.linspace(0, 5, 100)\n",
    "    setup_burr3(*row[1].values)\n",
    "    yvals = [burr3_fit.Eval(x) for x in xvals]\n",
    "    plt.plot(xvals, yvals, label=', '.join([str(v) for v in row[1].values]))\n",
    "plt.legend(loc='upper right', bbox_to_anchor=(1.75,1))"
   ]
  },
  {
   "cell_type": "code",
   "execution_count": 156,
   "metadata": {
    "collapsed": false
   },
   "outputs": [
    {
     "name": "stdout",
     "output_type": "stream",
     "text": [
      "\n"
     ]
    }
   ],
   "source": [
    "def fit_hist(hist, fit_range=None):\n",
    "    \"\"\"Fit to histogram.\n",
    "    Returns mode, error, and other info.\n",
    "\n",
    "    Parameters\n",
    "    ----------\n",
    "    hist : 1D histogram to be fitted\n",
    "    fit_range : list/tuple, optional\n",
    "        (Lower, upper) limits of fit range. If None, then no fit range enforced.\n",
    "\n",
    "    Returns\n",
    "    -------\n",
    "    fit_status : int\n",
    "        Fit status result\n",
    "    fit_mode : float\n",
    "        Mode of fitted function\n",
    "    fit_mode_err : float\n",
    "        Error of mode of fitted function\n",
    "    fit_ptr : TFitResultPtr\n",
    "        TFitResultPtr from hist fitting\n",
    "\n",
    "    Raises\n",
    "    ------\n",
    "    RuntimeError\n",
    "        If `fitter` not in list of acceptable fit distribution options\n",
    "    \"\"\"\n",
    "\n",
    "    fit_options = \"ES\"\n",
    "\n",
    "    # Do preliminary fit\n",
    "    for rough_counter, row in enumerate(df_chosen.iterrows()):\n",
    "        if rough_counter > 9:\n",
    "            break\n",
    "\n",
    "        fit_ptr = None\n",
    "        fit_status, fit_mode, fit_mode_err = -999, -999, -999\n",
    "        \n",
    "        params = row[1].values\n",
    "        setup_burr3(*params)\n",
    "        func_max = burr3_fit.GetMaximum()\n",
    "        hist_max = hist.GetMaximum()\n",
    "        params[2] = hist_max / func_max\n",
    "        setup_burr3(*params)\n",
    "#         break\n",
    "        \n",
    "        # Try the fit mutliple times, because it can converge on the 2nd or 3rd\n",
    "        # iteration but not on the 1st...\n",
    "        fit_counter_start = 4\n",
    "        fit_counter = fit_counter_start\n",
    "        while ((fit_status != 0 and fit_counter > 0) or \n",
    "               (fit_counter > 0 and fit_counter < fit_counter_start and hist.GetFunction(\"burr3\").GetMaximumX() < 0.001)):\n",
    "            print 'Iterations left:', fit_counter\n",
    "            if fit_range:\n",
    "                fit_ptr = hist.Fit(\"burr3\", fit_options + \"R\", \"\",\n",
    "                                   fit_range[0], fit_range[1])\n",
    "            else:\n",
    "                fit_ptr = hist.Fit(\"burr3\", fit_options)\n",
    "            fit_status = fit_ptr.Status()\n",
    "            print 'Fit status:', fit_status\n",
    "            fit_counter -= 1\n",
    "            if fit_status == 0 and hist.GetFunction(\"burr3\").GetMaximumX() > 0.001:\n",
    "                burr_fn = hist.GetFunction(\"burr3\")\n",
    "                fit_mode = burr_fn.GetMaximumX()\n",
    "                cov = fit_ptr.GetCovarianceMatrix()\n",
    "                c = burr_fn.GetParameter(0)\n",
    "                d = burr_fn.GetParameter(1)\n",
    "                mu = burr_fn.GetParameter(3)\n",
    "                s = burr_fn.GetParameter(4)\n",
    "                fit_mode_err = rc.calc_burr_mode_error(mode=fit_mode, c=c, d=d, s=s, mu=mu, cov=cov)\n",
    "#                 print fit_status, fit_mode, fit_err\n",
    "        \n",
    "                return fit_status, fit_mode, fit_mode_err, fit_ptr\n",
    "                \n",
    "\n"
   ]
  },
  {
   "cell_type": "code",
   "execution_count": 157,
   "metadata": {
    "collapsed": false,
    "scrolled": false
   },
   "outputs": [
    {
     "name": "stdout",
     "output_type": "stream",
     "text": [
      "using 7.0 1.0 1.0 3.5 2.5\n",
      "using 7.0 1.0 1.05574298855e-18 3.5 2.5\n",
      "Iterations left: 4\n",
      "Fit status: 4\n",
      "Iterations left: 3\n",
      "Fit status: 4\n",
      "Iterations left: 2\n",
      "Fit status: 4\n",
      "Iterations left: 1\n",
      "Fit status: 4\n",
      "using 9.0 1.0 1.0 4.0 3.0\n",
      "using 9.0 1.0 4.95732259067e-19 4.0 3.0\n",
      "Iterations left: 4\n",
      "Fit status: 4\n",
      "Iterations left: 3\n",
      "Fit status: 4\n",
      "Iterations left: 2\n",
      "Fit status: 4\n",
      "Iterations left: 1\n",
      "Fit status: 4\n",
      "using 9.0 1.0 1.0 3.5 2.5\n",
      "using 9.0 1.0 6.61063781475e-19 3.5 2.5\n",
      "Iterations left: 4\n",
      "Fit status: 4\n",
      "Iterations left: 3\n",
      "Fit status: 4\n",
      "Iterations left: 2\n",
      "Fit status: 4\n",
      "Iterations left: 1\n",
      "Fit status: 4\n",
      "using 5.0 1.0 1.0 4.5 3.5\n",
      "using 5.0 1.0 1.69346263115e-18 4.5 3.5\n",
      "Iterations left: 4\n",
      "Fit status: 4\n",
      "Iterations left: 3\n",
      "Fit status: 4\n",
      "Iterations left: 2\n",
      "Fit status: 4\n",
      "Iterations left: 1\n",
      "Fit status: 4\n",
      "using 5.0 1.0 1.0 5.0 4.0\n",
      "using 5.0 1.0 2.10753448058e-19 5.0 4.0\n",
      "Iterations left: 4\n",
      "Fit status: 4\n",
      "Iterations left: 3\n",
      "Fit status: 4\n",
      "Iterations left: 2\n",
      "Fit status: 4\n",
      "Iterations left: 1\n",
      "Fit status: 4\n",
      "using 5.0 1.0 1.0 4.0 3.0\n",
      "using 5.0 1.0 1.45457720917e-19 4.0 3.0\n",
      "Iterations left: 4\n",
      "Fit status: 4\n",
      "Iterations left: 3\n",
      "Fit status: 4\n",
      "Iterations left: 2\n",
      "Fit status: 4\n",
      "Iterations left: 1\n",
      "Fit status: 4\n",
      "using 3.0 1.0 1.0 4.0 3.0\n",
      "using 3.0 1.0 4.47754895599e-18 4.0 3.0\n",
      "Iterations left: 4\n",
      "Fit status: 4\n",
      "Iterations left: 3\n",
      "Fit status: 4\n",
      "Iterations left: 2\n",
      "Fit status: 4\n",
      "Iterations left: 1\n",
      "Fit status: 4\n",
      "using 3.0 1.0 1.0 4.5 3.5\n",
      "using 3.0 1.0 2.06835202073e-18 4.5 3.5\n",
      "Iterations left: 4\n",
      "Fit status: 4\n",
      "Iterations left: 3\n",
      "Fit status: 4\n",
      "Iterations left: 2\n",
      "Fit status: 4\n",
      "Iterations left: 1\n",
      "Fit status: 4\n",
      "using 7.0 1.0 1.0 5.0 4.0\n",
      "using 7.0 1.0 7.15450430417e-18 5.0 4.0\n",
      "Iterations left: 4\n",
      "Fit status: 4\n",
      "Iterations left: 3\n",
      "Fit status: 4\n",
      "Iterations left: 2\n",
      "Fit status: 4\n",
      "Iterations left: 1\n",
      "Fit status: 4\n",
      "using 3.0 1.0 1.0 3.5 2.5\n",
      "using 3.0 1.0 1.4895277884e-18 3.5 2.5\n",
      "Iterations left: 4\n",
      "Fit status: 4\n",
      "Iterations left: 3\n",
      "Fit status: 4\n",
      "Iterations left: 2\n",
      "Fit status: 4\n",
      "Iterations left: 1\n",
      "Fit status: 4\n",
      "Mode:"
     ]
    },
    {
     "name": "stderr",
     "output_type": "stream",
     "text": [
      "Fit:0: RuntimeWarning: Abnormal termination of minimization.\n",
      "Fit:0: RuntimeWarning: Abnormal termination of minimization.\n",
      "Fit:0: RuntimeWarning: Abnormal termination of minimization.\n",
      "Fit:0: RuntimeWarning: Abnormal termination of minimization.\n",
      "Fit:0: RuntimeWarning: Abnormal termination of minimization.\n",
      "Fit:0: RuntimeWarning: Abnormal termination of minimization.\n",
      "Fit:0: RuntimeWarning: Abnormal termination of minimization.\n",
      "Fit:0: RuntimeWarning: Abnormal termination of minimization.\n",
      "Fit:0: RuntimeWarning: Abnormal termination of minimization.\n",
      "Fit:0: RuntimeWarning: Abnormal termination of minimization.\n",
      "Fit:0: RuntimeWarning: Abnormal termination of minimization.\n",
      "Fit:0: RuntimeWarning: Abnormal termination of minimization.\n",
      "Fit:0: RuntimeWarning: Abnormal termination of minimization.\n",
      "Fit:0: RuntimeWarning: Abnormal termination of minimization.\n",
      "Fit:0: RuntimeWarning: Abnormal termination of minimization.\n",
      "Fit:0: RuntimeWarning: Abnormal termination of minimization.\n",
      "Fit:0: RuntimeWarning: Abnormal termination of minimization.\n",
      "Fit:0: RuntimeWarning: Abnormal termination of minimization.\n",
      "Fit:0: RuntimeWarning: Abnormal termination of minimization.\n",
      "Fit:0: RuntimeWarning: Abnormal termination of minimization.\n",
      "Fit:0: RuntimeWarning: Abnormal termination of minimization.\n",
      "Fit:0: RuntimeWarning: Abnormal termination of minimization.\n",
      "Fit:0: RuntimeWarning: Abnormal termination of minimization.\n",
      "Fit:0: RuntimeWarning: Abnormal termination of minimization.\n",
      "Fit:0: RuntimeWarning: Abnormal termination of minimization.\n",
      "Fit:0: RuntimeWarning: Abnormal termination of minimization.\n",
      "Fit:0: RuntimeWarning: Abnormal termination of minimization.\n",
      "Fit:0: RuntimeWarning: Abnormal termination of minimization.\n",
      "Fit:0: RuntimeWarning: Abnormal termination of minimization.\n",
      "Fit:0: RuntimeWarning: Abnormal termination of minimization.\n",
      "Fit:0: RuntimeWarning: Abnormal termination of minimization.\n",
      "Fit:0: RuntimeWarning: Abnormal termination of minimization.\n",
      "Fit:0: RuntimeWarning: Abnormal termination of minimization.\n",
      "Fit:0: RuntimeWarning: Abnormal termination of minimization.\n",
      "Fit:0: RuntimeWarning: Abnormal termination of minimization.\n",
      "Fit:0: RuntimeWarning: Abnormal termination of minimization.\n",
      "Fit:0: RuntimeWarning: Abnormal termination of minimization.\n",
      "Fit:0: RuntimeWarning: Abnormal termination of minimization.\n",
      "Fit:0: RuntimeWarning: Abnormal termination of minimization.\n",
      "Fit:0: RuntimeWarning: Abnormal termination of minimization.\n"
     ]
    },
    {
     "ename": "TypeError",
     "evalue": "'NoneType' object has no attribute '__getitem__'",
     "output_type": "error",
     "traceback": [
      "\u001b[0;31m---------------------------------------------------------------------------\u001b[0m",
      "\u001b[0;31mTypeError\u001b[0m                                 Traceback (most recent call last)",
      "\u001b[0;32m<ipython-input-157-991a978aed3e>\u001b[0m in \u001b[0;36m<module>\u001b[0;34m()\u001b[0m\n\u001b[1;32m      1\u001b[0m \u001b[0mresults\u001b[0m \u001b[0;34m=\u001b[0m \u001b[0mfit_hist\u001b[0m\u001b[0;34m(\u001b[0m\u001b[0mh\u001b[0m\u001b[0;34m,\u001b[0m \u001b[0;34m[\u001b[0m\u001b[0;36m0\u001b[0m\u001b[0;34m,\u001b[0m \u001b[0;36m2\u001b[0m\u001b[0;34m]\u001b[0m\u001b[0;34m)\u001b[0m\u001b[0;34m\u001b[0m\u001b[0m\n\u001b[0;32m----> 2\u001b[0;31m \u001b[0;32mprint\u001b[0m \u001b[0;34m'Mode:'\u001b[0m\u001b[0;34m,\u001b[0m \u001b[0mresults\u001b[0m\u001b[0;34m[\u001b[0m\u001b[0;36m1\u001b[0m\u001b[0;34m]\u001b[0m\u001b[0;34m,\u001b[0m \u001b[0;34m'±'\u001b[0m\u001b[0;34m,\u001b[0m \u001b[0mresults\u001b[0m\u001b[0;34m[\u001b[0m\u001b[0;36m2\u001b[0m\u001b[0;34m]\u001b[0m\u001b[0;34m\u001b[0m\u001b[0m\n\u001b[0m\u001b[1;32m      3\u001b[0m \u001b[0mh\u001b[0m\u001b[0;34m.\u001b[0m\u001b[0mDraw\u001b[0m\u001b[0;34m(\u001b[0m\u001b[0;34m)\u001b[0m\u001b[0;34m\u001b[0m\u001b[0m\n\u001b[1;32m      4\u001b[0m \u001b[0mc\u001b[0m\u001b[0;34m.\u001b[0m\u001b[0mDraw\u001b[0m\u001b[0;34m(\u001b[0m\u001b[0;34m)\u001b[0m\u001b[0;34m\u001b[0m\u001b[0m\n",
      "\u001b[0;31mTypeError\u001b[0m: 'NoneType' object has no attribute '__getitem__'"
     ]
    }
   ],
   "source": [
    "results = fit_hist(h, [0, 2])\n",
    "print 'Mode:', results[1], '±', results[2]\n",
    "h.Draw()\n",
    "c.Draw()"
   ]
  },
  {
   "cell_type": "code",
   "execution_count": 103,
   "metadata": {
    "collapsed": false
   },
   "outputs": [
    {
     "data": {
      "image/png": "[encoded data removed]",
      "text/plain": [
       "<IPython.core.display.Image object>"
      ]
     },
     "metadata": {},
     "output_type": "display_data"
    }
   ],
   "source": [
    "h.Draw()\n",
    "burr3_fit.Draw(\"SAME\")\n",
    "c.Draw()"
   ]
  },
  {
   "cell_type": "code",
   "execution_count": null,
   "metadata": {
    "collapsed": true
   },
   "outputs": [],
   "source": []
  }
 ],
 "metadata": {
  "kernelspec": {
   "display_name": "Python 2",
   "language": "python",
   "name": "python2"
  },
  "language_info": {
   "codemirror_mode": {
    "name": "ipython",
    "version": 2
   },
   "file_extension": ".py",
   "mimetype": "text/x-python",
   "name": "python",
   "nbconvert_exporter": "python",
   "pygments_lexer": "ipython2",
   "version": "2.7.12"
  }
 },
 "nbformat": 4,
 "nbformat_minor": 1
}
