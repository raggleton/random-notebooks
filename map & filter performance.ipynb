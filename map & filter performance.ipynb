{
 "cells": [
  {
   "cell_type": "code",
   "execution_count": 129,
   "metadata": {
    "collapsed": false
   },
   "outputs": [],
   "source": [
    "from collections import OrderedDict\n",
    "import matplotlib.pyplot as plt\n",
    "import matplotlib as mpl\n",
    "import numpy as np\n",
    "\n",
    "%matplotlib inline\n",
    "\n",
    "mpl.rcParams['figure.figsize'] = (10, 6)\n",
    "mpl.rcParams['font.size'] = 16\n",
    "get_ipython().magic(u\"config InlineBackend.figure_formats = 'png', \")"
   ]
  },
  {
   "cell_type": "markdown",
   "metadata": {},
   "source": [
    "This quick notebook compares various ways of applying map and filter functions: using the builtin map() and filter(), list comprehensions, and standard for loops. We will also try different ways of applying our function.\n",
    "\n",
    "We'll profile each methods to see which wins!"
   ]
  },
  {
   "cell_type": "markdown",
   "metadata": {},
   "source": [
    "# map"
   ]
  },
  {
   "cell_type": "markdown",
   "metadata": {},
   "source": [
    "### map() + lambda"
   ]
  },
  {
   "cell_type": "code",
   "execution_count": 139,
   "metadata": {
    "collapsed": false
   },
   "outputs": [
    {
     "name": "stdout",
     "output_type": "stream",
     "text": [
      "1 loops, best of 10: 290 ms per loop\n"
     ]
    }
   ],
   "source": [
    "def map_lambda():\n",
    "    return map(lambda x: x%3, range(1000000))\n",
    "\n",
    "t_map_lambda = %timeit -o -r 10 -n 1 map_lambda()"
   ]
  },
  {
   "cell_type": "markdown",
   "metadata": {},
   "source": [
    "### map() + function"
   ]
  },
  {
   "cell_type": "code",
   "execution_count": 140,
   "metadata": {
    "collapsed": false
   },
   "outputs": [
    {
     "name": "stdout",
     "output_type": "stream",
     "text": [
      "1 loops, best of 10: 297 ms per loop\n"
     ]
    }
   ],
   "source": [
    "def modd(x):\n",
    "    return x%3\n",
    "\n",
    "def map_def():\n",
    "    return map(modd, range(1000000))\n",
    "\n",
    "t_map_def = %timeit -o -r 10 -n 1 map_def()"
   ]
  },
  {
   "cell_type": "markdown",
   "metadata": {},
   "source": [
    "### list comprehension"
   ]
  },
  {
   "cell_type": "code",
   "execution_count": 141,
   "metadata": {
    "collapsed": false
   },
   "outputs": [
    {
     "name": "stdout",
     "output_type": "stream",
     "text": [
      "1 loops, best of 10: 189 ms per loop\n"
     ]
    }
   ],
   "source": [
    "def map_list():\n",
    "    return [x%3 for x in range(1000000)]\n",
    "\n",
    "t_map_list = %timeit -o -r 10 -n 1 map_list()"
   ]
  },
  {
   "cell_type": "markdown",
   "metadata": {},
   "source": [
    "### list comprehension + function"
   ]
  },
  {
   "cell_type": "code",
   "execution_count": 142,
   "metadata": {
    "collapsed": false
   },
   "outputs": [
    {
     "name": "stdout",
     "output_type": "stream",
     "text": [
      "1 loops, best of 10: 329 ms per loop\n"
     ]
    }
   ],
   "source": [
    "def map_list_def():\n",
    "    return [modd(x) for x in range(1000000)]\n",
    "\n",
    "t_map_list_def = %timeit -o -r 10 -n 1 map_list_def()"
   ]
  },
  {
   "cell_type": "markdown",
   "metadata": {},
   "source": [
    "### for loop"
   ]
  },
  {
   "cell_type": "code",
   "execution_count": 143,
   "metadata": {
    "collapsed": false
   },
   "outputs": [
    {
     "name": "stdout",
     "output_type": "stream",
     "text": [
      "1 loops, best of 10: 226 ms per loop\n"
     ]
    }
   ],
   "source": [
    "def map_for_loop():\n",
    "    l = range(1000000)\n",
    "    for i, x in enumerate(l):\n",
    "        l[i] = x % 3\n",
    "    return l\n",
    "\n",
    "t_map_for_loop = %timeit -o -r 10 -n 1 map_for_loop()"
   ]
  },
  {
   "cell_type": "markdown",
   "metadata": {},
   "source": [
    "### for loop + function"
   ]
  },
  {
   "cell_type": "code",
   "execution_count": 144,
   "metadata": {
    "collapsed": false
   },
   "outputs": [
    {
     "name": "stdout",
     "output_type": "stream",
     "text": [
      "1 loops, best of 10: 376 ms per loop\n"
     ]
    }
   ],
   "source": [
    "def map_for_loop_def():\n",
    "    l = range(1000000)\n",
    "    for i, x in enumerate(l):\n",
    "        l[i] = modd(x)\n",
    "    return l\n",
    "\n",
    "t_map_for_loop_def = %timeit -o -r 10 -n 1 map_for_loop_def()"
   ]
  },
  {
   "cell_type": "markdown",
   "metadata": {},
   "source": [
    "## map results"
   ]
  },
  {
   "cell_type": "code",
   "execution_count": 145,
   "metadata": {
    "collapsed": false
   },
   "outputs": [
    {
     "data": {
      "text/plain": [
       "{'_precision': 3,\n",
       " 'all_runs': [0.3301060199737549,\n",
       "  0.3219339847564697,\n",
       "  0.3202390670776367,\n",
       "  0.32208800315856934,\n",
       "  0.3269071578979492,\n",
       "  0.3036959171295166,\n",
       "  0.31177306175231934,\n",
       "  0.3056180477142334,\n",
       "  0.3161180019378662,\n",
       "  0.29650187492370605],\n",
       " 'best': 0.29650187492370605,\n",
       " 'compile_time': 0.00017199999996364568,\n",
       " 'loops': 1,\n",
       " 'repeat': 10,\n",
       " 'worst': 0.3301060199737549}"
      ]
     },
     "execution_count": 145,
     "metadata": {},
     "output_type": "execute_result"
    }
   ],
   "source": [
    "t_map_def.__dict__"
   ]
  },
  {
   "cell_type": "code",
   "execution_count": 108,
   "metadata": {
    "collapsed": false
   },
   "outputs": [],
   "source": [
    "map_results = {\n",
    "    'map()\\n+ lambda': [np.mean(t_map_lambda.all_runs), np.std(t_map_lambda.all_runs)],\n",
    "    'map()\\n+ def': [np.mean(t_map_def.all_runs), np.std(t_map_def.all_runs)],\n",
    "    'list comp': [np.mean(t_map_list.all_runs), np.std(t_map_list.all_runs)],\n",
    "    'list comp\\n+ def': [np.mean(t_map_list_def.all_runs), np.std(t_map_list_def.all_runs)],\n",
    "    'for loop': [np.mean(t_map_for_loop.all_runs), np.std(t_map_for_loop.all_runs)],\n",
    "    'for loop\\n+ def': [np.mean(t_map_for_loop_def.all_runs), np.std(t_map_for_loop_def.all_runs)]\n",
    "}\n",
    "\n",
    "map_results_ordered = OrderedDict(sorted(map_results.items(), key=lambda t: t[1][0]))"
   ]
  },
  {
   "cell_type": "code",
   "execution_count": 146,
   "metadata": {
    "collapsed": false
   },
   "outputs": [
    {
     "data": {
      "text/plain": [
       "<matplotlib.text.Text at 0x12258e2d0>"
      ]
     },
     "execution_count": 146,
     "metadata": {},
     "output_type": "execute_result"
    },
    {
     "data": {
      "image/png": "[encoded data removed]",
      "text/plain": [
       "<matplotlib.figure.Figure at 0x1219df150>"
      ]
     },
     "metadata": {},
     "output_type": "display_data"
    }
   ],
   "source": [
    "plt.bar(left=[i*3 for i in range(len(map_results))], \n",
    "        width=2, \n",
    "        height=[x[0] for x in map_results_ordered.values()], \n",
    "        yerr=[x[1] for x in map_results_ordered.values()], \n",
    "        tick_label=map_results_ordered.keys(), \n",
    "        align='center',\n",
    "        ecolor='black')\n",
    "plt.ylabel('Mean time (s)')\n",
    "plt.suptitle('map performance (error is RMS of measurements)')"
   ]
  },
  {
   "cell_type": "markdown",
   "metadata": {},
   "source": [
    "# filter "
   ]
  },
  {
   "cell_type": "markdown",
   "metadata": {},
   "source": [
    "### filter() + lambda"
   ]
  },
  {
   "cell_type": "code",
   "execution_count": 147,
   "metadata": {
    "collapsed": false
   },
   "outputs": [
    {
     "name": "stdout",
     "output_type": "stream",
     "text": [
      "1 loops, best of 10: 365 ms per loop\n"
     ]
    }
   ],
   "source": [
    "def filter_lambda():\n",
    "    return filter(lambda x: x in [1,2,3,4,5], range(1000000))\n",
    "\n",
    "t_filter_lambda = %timeit -o -r 10 -n 1 filter_lambda()"
   ]
  },
  {
   "cell_type": "markdown",
   "metadata": {},
   "source": [
    "### filter() + function"
   ]
  },
  {
   "cell_type": "code",
   "execution_count": 148,
   "metadata": {
    "collapsed": false
   },
   "outputs": [
    {
     "name": "stdout",
     "output_type": "stream",
     "text": [
      "1 loops, best of 10: 368 ms per loop\n"
     ]
    }
   ],
   "source": [
    "def check(i):\n",
    "    return i in [1,2,3,4,5]\n",
    "\n",
    "def filter_def():\n",
    "    return filter(check, range(1000000))\n",
    "\n",
    "t_filter_def = %timeit -o -r 10 -n 1 filter_def()"
   ]
  },
  {
   "cell_type": "markdown",
   "metadata": {},
   "source": [
    "### list comprehension"
   ]
  },
  {
   "cell_type": "code",
   "execution_count": 149,
   "metadata": {
    "collapsed": false
   },
   "outputs": [
    {
     "name": "stdout",
     "output_type": "stream",
     "text": [
      "1 loops, best of 10: 248 ms per loop\n"
     ]
    }
   ],
   "source": [
    "def filter_list():\n",
    "    return [x for x in range(1000000) if x in [1,2,3,4,5]]\n",
    "\n",
    "t_filter_list = %timeit -o -r 10 -n 1 filter_list()"
   ]
  },
  {
   "cell_type": "markdown",
   "metadata": {},
   "source": [
    "### list comprehension + function"
   ]
  },
  {
   "cell_type": "code",
   "execution_count": 150,
   "metadata": {
    "collapsed": false
   },
   "outputs": [
    {
     "name": "stdout",
     "output_type": "stream",
     "text": [
      "1 loops, best of 10: 371 ms per loop\n"
     ]
    }
   ],
   "source": [
    "def filter_list_def():\n",
    "    return [x for x in range(1000000) if check(x)]\n",
    "\n",
    "t_filter_list_def = %timeit -o -r 10 -n 1 filter_list_def()"
   ]
  },
  {
   "cell_type": "markdown",
   "metadata": {},
   "source": [
    "## filter results"
   ]
  },
  {
   "cell_type": "code",
   "execution_count": 154,
   "metadata": {
    "collapsed": false
   },
   "outputs": [
    {
     "data": {
      "text/plain": [
       "{'_precision': 3,\n",
       " 'all_runs': [0.3898890018463135,\n",
       "  0.5009708404541016,\n",
       "  0.4104897975921631,\n",
       "  0.4889061450958252,\n",
       "  0.38635993003845215,\n",
       "  0.3881540298461914,\n",
       "  0.36940503120422363,\n",
       "  0.36525416374206543,\n",
       "  0.40778493881225586,\n",
       "  0.4478909969329834],\n",
       " 'best': 0.36525416374206543,\n",
       " 'compile_time': 0.0001720000000204891,\n",
       " 'loops': 1,\n",
       " 'repeat': 10,\n",
       " 'worst': 0.5009708404541016}"
      ]
     },
     "execution_count": 154,
     "metadata": {},
     "output_type": "execute_result"
    }
   ],
   "source": [
    "t_filter_lambda.__dict__"
   ]
  },
  {
   "cell_type": "code",
   "execution_count": 151,
   "metadata": {
    "collapsed": true
   },
   "outputs": [],
   "source": [
    "filter_results = {\n",
    "    'filter()\\n+ lambda': [np.mean(t_filter_lambda.all_runs), np.std(t_filter_lambda.all_runs)],\n",
    "    'filter()\\n+ def': [np.mean(t_filter_def.all_runs), np.std(t_filter_def.all_runs)],\n",
    "    'list comp': [np.mean(t_filter_list.all_runs), np.std(t_filter_list.all_runs)],\n",
    "    'list comp\\n+ def': [np.mean(t_filter_list_def.all_runs), np.std(t_filter_list_def.all_runs)],\n",
    "}\n",
    "\n",
    "filter_results_ordered = OrderedDict(sorted(filter_results.items(), key=lambda t: t[1][0]))"
   ]
  },
  {
   "cell_type": "code",
   "execution_count": 152,
   "metadata": {
    "collapsed": false
   },
   "outputs": [
    {
     "data": {
      "text/plain": [
       "<matplotlib.text.Text at 0x12258ed90>"
      ]
     },
     "execution_count": 152,
     "metadata": {},
     "output_type": "execute_result"
    },
    {
     "data": {
      "image/png": "[encoded data removed]",
      "text/plain": [
       "<matplotlib.figure.Figure at 0x1227f7b50>"
      ]
     },
     "metadata": {},
     "output_type": "display_data"
    }
   ],
   "source": [
    "plt.bar(left=[i*3 for i in range(len(filter_results))], \n",
    "        width=2, \n",
    "        height=[x[0] for x in filter_results_ordered.values()], \n",
    "        yerr=[x[1] for x in filter_results_ordered.values()], \n",
    "        tick_label=filter_results_ordered.keys(), \n",
    "        align='center',\n",
    "        ecolor='black')\n",
    "plt.ylabel('Mean time (s)')\n",
    "plt.suptitle('filter performance (error is RMS of measurements)')"
   ]
  },
  {
   "cell_type": "code",
   "execution_count": null,
   "metadata": {
    "collapsed": true
   },
   "outputs": [],
   "source": []
  }
 ],
 "metadata": {
  "kernelspec": {
   "display_name": "Python 2",
   "language": "python",
   "name": "python2"
  },
  "language_info": {
   "codemirror_mode": {
    "name": "ipython",
    "version": 2
   },
   "file_extension": ".py",
   "mimetype": "text/x-python",
   "name": "python",
   "nbconvert_exporter": "python",
   "pygments_lexer": "ipython2",
   "version": "2.7.11"
  }
 },
 "nbformat": 4,
 "nbformat_minor": 0
}
