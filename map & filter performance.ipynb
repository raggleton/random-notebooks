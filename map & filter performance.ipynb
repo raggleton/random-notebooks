{
 "cells": [
  {
   "cell_type": "code",
   "execution_count": 1,
   "metadata": {
    "collapsed": false
   },
   "outputs": [],
   "source": [
    "from collections import OrderedDict\n",
    "import matplotlib.pyplot as plt\n",
    "import matplotlib as mpl\n",
    "import numpy as np\n",
    "\n",
    "%matplotlib inline\n",
    "\n",
    "mpl.rcParams['figure.figsize'] = (10, 6)\n",
    "mpl.rcParams['font.size'] = 16\n",
    "get_ipython().magic(u\"config InlineBackend.figure_formats = 'png', \")"
   ]
  },
  {
   "cell_type": "markdown",
   "metadata": {},
   "source": [
    "This quick notebook compares various ways of applying map and filter functions: using the builtin map() and filter(), list comprehensions, and standard for loops. We will also try different ways of applying our function.\n",
    "\n",
    "We'll profile each methods to see which wins!"
   ]
  },
  {
   "cell_type": "markdown",
   "metadata": {},
   "source": [
    "# map"
   ]
  },
  {
   "cell_type": "markdown",
   "metadata": {},
   "source": [
    "### map() + lambda"
   ]
  },
  {
   "cell_type": "code",
   "execution_count": 2,
   "metadata": {
    "collapsed": false
   },
   "outputs": [
    {
     "name": "stdout",
     "output_type": "stream",
     "text": [
      "1 loops, best of 10: 299 ms per loop\n"
     ]
    }
   ],
   "source": [
    "def map_lambda():\n",
    "    return map(lambda x: x%3, range(1000000))\n",
    "\n",
    "t_map_lambda = %timeit -o -r 10 -n 1 map_lambda()"
   ]
  },
  {
   "cell_type": "markdown",
   "metadata": {},
   "source": [
    "### map() + function"
   ]
  },
  {
   "cell_type": "code",
   "execution_count": 3,
   "metadata": {
    "collapsed": false
   },
   "outputs": [
    {
     "name": "stdout",
     "output_type": "stream",
     "text": [
      "1 loops, best of 10: 292 ms per loop\n"
     ]
    }
   ],
   "source": [
    "def modd(x):\n",
    "    return x%3\n",
    "\n",
    "def map_def():\n",
    "    return map(modd, range(1000000))\n",
    "\n",
    "t_map_def = %timeit -o -r 10 -n 1 map_def()"
   ]
  },
  {
   "cell_type": "markdown",
   "metadata": {},
   "source": [
    "### list comprehension"
   ]
  },
  {
   "cell_type": "code",
   "execution_count": 4,
   "metadata": {
    "collapsed": false
   },
   "outputs": [
    {
     "name": "stdout",
     "output_type": "stream",
     "text": [
      "1 loops, best of 10: 180 ms per loop\n"
     ]
    }
   ],
   "source": [
    "def map_list():\n",
    "    return [x%3 for x in range(1000000)]\n",
    "\n",
    "t_map_list = %timeit -o -r 10 -n 1 map_list()"
   ]
  },
  {
   "cell_type": "markdown",
   "metadata": {},
   "source": [
    "### list comprehension + function"
   ]
  },
  {
   "cell_type": "code",
   "execution_count": 5,
   "metadata": {
    "collapsed": false
   },
   "outputs": [
    {
     "name": "stdout",
     "output_type": "stream",
     "text": [
      "1 loops, best of 10: 325 ms per loop\n"
     ]
    }
   ],
   "source": [
    "def map_list_def():\n",
    "    return [modd(x) for x in range(1000000)]\n",
    "\n",
    "t_map_list_def = %timeit -o -r 10 -n 1 map_list_def()"
   ]
  },
  {
   "cell_type": "markdown",
   "metadata": {},
   "source": [
    "### for loop"
   ]
  },
  {
   "cell_type": "code",
   "execution_count": 6,
   "metadata": {
    "collapsed": false
   },
   "outputs": [
    {
     "name": "stdout",
     "output_type": "stream",
     "text": [
      "1 loops, best of 10: 222 ms per loop\n"
     ]
    }
   ],
   "source": [
    "def map_for_loop():\n",
    "    l = range(1000000)\n",
    "    for i, x in enumerate(l):\n",
    "        l[i] = x % 3\n",
    "    return l\n",
    "\n",
    "t_map_for_loop = %timeit -o -r 10 -n 1 map_for_loop()"
   ]
  },
  {
   "cell_type": "markdown",
   "metadata": {},
   "source": [
    "### for loop + function"
   ]
  },
  {
   "cell_type": "code",
   "execution_count": 7,
   "metadata": {
    "collapsed": false
   },
   "outputs": [
    {
     "name": "stdout",
     "output_type": "stream",
     "text": [
      "1 loops, best of 10: 379 ms per loop\n"
     ]
    }
   ],
   "source": [
    "def map_for_loop_def():\n",
    "    l = range(1000000)\n",
    "    for i, x in enumerate(l):\n",
    "        l[i] = modd(x)\n",
    "    return l\n",
    "\n",
    "t_map_for_loop_def = %timeit -o -r 10 -n 1 map_for_loop_def()"
   ]
  },
  {
   "cell_type": "markdown",
   "metadata": {},
   "source": [
    "## map results"
   ]
  },
  {
   "cell_type": "code",
   "execution_count": 8,
   "metadata": {
    "collapsed": false
   },
   "outputs": [
    {
     "data": {
      "text/plain": [
       "{'_precision': 3,\n",
       " 'all_runs': [0.302807092666626,\n",
       "  0.2922041416168213,\n",
       "  0.29352784156799316,\n",
       "  0.29230713844299316,\n",
       "  0.2922701835632324,\n",
       "  0.30483007431030273,\n",
       "  0.3020949363708496,\n",
       "  0.2993950843811035,\n",
       "  0.30718302726745605,\n",
       "  0.3001410961151123],\n",
       " 'best': 0.2922041416168213,\n",
       " 'compile_time': 0.00017400000000034055,\n",
       " 'loops': 1,\n",
       " 'repeat': 10,\n",
       " 'worst': 0.30718302726745605}"
      ]
     },
     "execution_count": 8,
     "metadata": {},
     "output_type": "execute_result"
    }
   ],
   "source": [
    "t_map_def.__dict__"
   ]
  },
  {
   "cell_type": "code",
   "execution_count": 24,
   "metadata": {
    "collapsed": false
   },
   "outputs": [],
   "source": [
    "map_results = {\n",
    "    'map()\\n+ lambda': [np.mean(t_map_lambda.all_runs), np.std(t_map_lambda.all_runs)],\n",
    "    'map()\\n+ def': [np.mean(t_map_def.all_runs), np.std(t_map_def.all_runs)],\n",
    "    'list comp': [np.mean(t_map_list.all_runs), np.std(t_map_list.all_runs)],\n",
    "    'list comp\\n+ def': [np.mean(t_map_list_def.all_runs), np.std(t_map_list_def.all_runs)],\n",
    "    'for loop': [np.mean(t_map_for_loop.all_runs), np.std(t_map_for_loop.all_runs)],\n",
    "    'for loop\\n+ def': [np.mean(t_map_for_loop_def.all_runs), np.std(t_map_for_loop_def.all_runs)]\n",
    "}\n",
    "\n",
    "map_results_ordered = OrderedDict(sorted(map_results.items(), key=lambda t: t[1][0]))"
   ]
  },
  {
   "cell_type": "code",
   "execution_count": 26,
   "metadata": {
    "collapsed": false
   },
   "outputs": [
    {
     "data": {
      "text/plain": [
       "OrderedDict([('list comp', [0.18466522693634033, 0.0034427056949027628]),\n",
       "             ('for loop', [0.22716825008392333, 0.0028967256560394209]),\n",
       "             ('map()\\n+ def', [0.29867606163024901, 0.0054004273250981196]),\n",
       "             ('map()\\n+ lambda', [0.32964487075805665, 0.045779251204950112]),\n",
       "             ('list comp\\n+ def',\n",
       "              [0.33139867782592775, 0.0044990352685738222]),\n",
       "             ('for loop\\n+ def', [0.3862429618835449, 0.005593066203723799])])"
      ]
     },
     "execution_count": 26,
     "metadata": {},
     "output_type": "execute_result"
    }
   ],
   "source": [
    "map_results_ordered"
   ]
  },
  {
   "cell_type": "code",
   "execution_count": 46,
   "metadata": {
    "collapsed": false
   },
   "outputs": [
    {
     "data": {
      "image/png": "[encoded data removed]",
      "text/plain": [
       "<matplotlib.figure.Figure at 0x10bc2e510>"
      ]
     },
     "metadata": {},
     "output_type": "display_data"
    }
   ],
   "source": [
    "plt.bar(left=[i*3 for i in range(len(map_results))], \n",
    "        width=2, \n",
    "        height=[x[0] for x in map_results_ordered.values()], \n",
    "        yerr=[x[1] for x in map_results_ordered.values()], \n",
    "        tick_label=map_results_ordered.keys(), \n",
    "        align='center',\n",
    "        ecolor='black')\n",
    "plt.ylabel('Mean time (s)')\n",
    "plt.suptitle('map performance (error is RMS of measurements)')\n",
    "plt.minorticks_on()\n",
    "plt.grid()"
   ]
  },
  {
   "cell_type": "code",
   "execution_count": 49,
   "metadata": {
    "collapsed": false
   },
   "outputs": [],
   "source": [
    "map_results_relative_ordered = map_results_ordered.copy()\n",
    "fastest = map_results_relative_ordered.values()[0][0]\n",
    "for k, v in map_results_relative_ordered.iteritems():\n",
    "    map_results_relative_ordered[k][0] = v[0] / fastest\n",
    "    map_results_relative_ordered[k][1] = v[1] / fastest"
   ]
  },
  {
   "cell_type": "code",
   "execution_count": 51,
   "metadata": {
    "collapsed": false
   },
   "outputs": [
    {
     "data": {
      "image/png": "[encoded data removed]",
      "text/plain": [
       "<matplotlib.figure.Figure at 0x10c6fe1d0>"
      ]
     },
     "metadata": {},
     "output_type": "display_data"
    }
   ],
   "source": [
    "plt.bar(left=[i*3 for i in range(len(map_results))], \n",
    "        width=2, \n",
    "        height=[x[0] for x in map_results_relative_ordered.values()], \n",
    "        tick_label=map_results_relative_ordered.keys(), \n",
    "#         yerr=[x[1] for x in map_results_relative_ordered.values()], \n",
    "        align='center',\n",
    "        ecolor='black')\n",
    "plt.ylabel('Relative to fastest performer')\n",
    "plt.suptitle('map relative performance')\n",
    "plt.minorticks_on()\n",
    "plt.grid()"
   ]
  },
  {
   "cell_type": "markdown",
   "metadata": {},
   "source": [
    "# filter "
   ]
  },
  {
   "cell_type": "markdown",
   "metadata": {},
   "source": [
    "### filter() + lambda"
   ]
  },
  {
   "cell_type": "code",
   "execution_count": 11,
   "metadata": {
    "collapsed": false
   },
   "outputs": [
    {
     "name": "stdout",
     "output_type": "stream",
     "text": [
      "1 loops, best of 10: 365 ms per loop\n"
     ]
    }
   ],
   "source": [
    "def filter_lambda():\n",
    "    return filter(lambda x: x in [1,2,3,4,5], range(1000000))\n",
    "\n",
    "t_filter_lambda = %timeit -o -r 10 -n 1 filter_lambda()"
   ]
  },
  {
   "cell_type": "markdown",
   "metadata": {},
   "source": [
    "### filter() + function"
   ]
  },
  {
   "cell_type": "code",
   "execution_count": 12,
   "metadata": {
    "collapsed": false
   },
   "outputs": [
    {
     "name": "stdout",
     "output_type": "stream",
     "text": [
      "1 loops, best of 10: 367 ms per loop\n"
     ]
    }
   ],
   "source": [
    "def check(i):\n",
    "    return i in [1,2,3,4,5]\n",
    "\n",
    "def filter_def():\n",
    "    return filter(check, range(1000000))\n",
    "\n",
    "t_filter_def = %timeit -o -r 10 -n 1 filter_def()"
   ]
  },
  {
   "cell_type": "markdown",
   "metadata": {},
   "source": [
    "### list comprehension"
   ]
  },
  {
   "cell_type": "code",
   "execution_count": 13,
   "metadata": {
    "collapsed": false
   },
   "outputs": [
    {
     "name": "stdout",
     "output_type": "stream",
     "text": [
      "1 loops, best of 10: 247 ms per loop\n"
     ]
    }
   ],
   "source": [
    "def filter_list():\n",
    "    return [x for x in range(1000000) if x in [1,2,3,4,5]]\n",
    "\n",
    "t_filter_list = %timeit -o -r 10 -n 1 filter_list()"
   ]
  },
  {
   "cell_type": "markdown",
   "metadata": {},
   "source": [
    "### list comprehension + function"
   ]
  },
  {
   "cell_type": "code",
   "execution_count": 14,
   "metadata": {
    "collapsed": false
   },
   "outputs": [
    {
     "name": "stdout",
     "output_type": "stream",
     "text": [
      "1 loops, best of 10: 410 ms per loop\n"
     ]
    }
   ],
   "source": [
    "def filter_list_def():\n",
    "    return [x for x in range(1000000) if check(x)]\n",
    "\n",
    "t_filter_list_def = %timeit -o -r 10 -n 1 filter_list_def()"
   ]
  },
  {
   "cell_type": "markdown",
   "metadata": {},
   "source": [
    "## filter results"
   ]
  },
  {
   "cell_type": "code",
   "execution_count": 15,
   "metadata": {
    "collapsed": false
   },
   "outputs": [
    {
     "data": {
      "text/plain": [
       "{'_precision': 3,\n",
       " 'all_runs': [0.39859604835510254,\n",
       "  0.3648250102996826,\n",
       "  0.37784790992736816,\n",
       "  0.3665950298309326,\n",
       "  0.38240909576416016,\n",
       "  0.37334680557250977,\n",
       "  0.37583303451538086,\n",
       "  0.36533093452453613,\n",
       "  0.37225914001464844,\n",
       "  0.3753478527069092],\n",
       " 'best': 0.3648250102996826,\n",
       " 'compile_time': 0.00016700000000113846,\n",
       " 'loops': 1,\n",
       " 'repeat': 10,\n",
       " 'worst': 0.39859604835510254}"
      ]
     },
     "execution_count": 15,
     "metadata": {},
     "output_type": "execute_result"
    }
   ],
   "source": [
    "t_filter_lambda.__dict__"
   ]
  },
  {
   "cell_type": "code",
   "execution_count": 16,
   "metadata": {
    "collapsed": true
   },
   "outputs": [],
   "source": [
    "filter_results = {\n",
    "    'filter()\\n+ lambda': [np.mean(t_filter_lambda.all_runs), np.std(t_filter_lambda.all_runs)],\n",
    "    'filter()\\n+ def': [np.mean(t_filter_def.all_runs), np.std(t_filter_def.all_runs)],\n",
    "    'list comp': [np.mean(t_filter_list.all_runs), np.std(t_filter_list.all_runs)],\n",
    "    'list comp\\n+ def': [np.mean(t_filter_list_def.all_runs), np.std(t_filter_list_def.all_runs)],\n",
    "}\n",
    "\n",
    "filter_results_ordered = OrderedDict(sorted(filter_results.items(), key=lambda t: t[1][0]))"
   ]
  },
  {
   "cell_type": "code",
   "execution_count": 47,
   "metadata": {
    "collapsed": false
   },
   "outputs": [
    {
     "data": {
      "image/png": "[encoded data removed]",
      "text/plain": [
       "<matplotlib.figure.Figure at 0x10bed6690>"
      ]
     },
     "metadata": {},
     "output_type": "display_data"
    }
   ],
   "source": [
    "plt.bar(left=[i*3 for i in range(len(filter_results))], \n",
    "        width=2, \n",
    "        height=[x[0] for x in filter_results_ordered.values()], \n",
    "        yerr=[x[1] for x in filter_results_ordered.values()], \n",
    "        tick_label=filter_results_ordered.keys(), \n",
    "        align='center',\n",
    "        ecolor='black')\n",
    "plt.ylabel('Mean time (s)')\n",
    "plt.suptitle('filter performance (error is RMS of measurements)')\n",
    "plt.minorticks_on()\n",
    "plt.grid()"
   ]
  },
  {
   "cell_type": "code",
   "execution_count": 52,
   "metadata": {
    "collapsed": true
   },
   "outputs": [],
   "source": [
    "filter_results_relative_ordered = filter_results_ordered.copy()\n",
    "fastest = filter_results_relative_ordered.values()[0][0]\n",
    "for k, v in filter_results_relative_ordered.iteritems():\n",
    "    filter_results_relative_ordered[k][0] = v[0] / fastest\n",
    "    filter_results_relative_ordered[k][1] = v[1] / fastest"
   ]
  },
  {
   "cell_type": "code",
   "execution_count": 54,
   "metadata": {
    "collapsed": false
   },
   "outputs": [
    {
     "data": {
      "image/png": "[encoded data removed]",
      "text/plain": [
       "<matplotlib.figure.Figure at 0x105a44210>"
      ]
     },
     "metadata": {},
     "output_type": "display_data"
    }
   ],
   "source": [
    "plt.bar(left=[i*3 for i in range(len(filter_results))], \n",
    "        width=2, \n",
    "        height=[x[0] for x in filter_results_relative_ordered.values()], \n",
    "        tick_label=filter_results_relative_ordered.keys(), \n",
    "#         yerr=[x[1] for x in filter_results_relative_ordered.values()], \n",
    "        align='center',\n",
    "        ecolor='black')\n",
    "plt.ylabel('Relative to fastest performer')\n",
    "plt.suptitle('filter relative performance')\n",
    "plt.minorticks_on()\n",
    "plt.grid()"
   ]
  },
  {
   "cell_type": "code",
   "execution_count": null,
   "metadata": {
    "collapsed": true
   },
   "outputs": [],
   "source": []
  }
 ],
 "metadata": {
  "kernelspec": {
   "display_name": "Python 2",
   "language": "python",
   "name": "python2"
  },
  "language_info": {
   "codemirror_mode": {
    "name": "ipython",
    "version": 2
   },
   "file_extension": ".py",
   "mimetype": "text/x-python",
   "name": "python",
   "nbconvert_exporter": "python",
   "pygments_lexer": "ipython2",
   "version": "2.7.11"
  }
 },
 "nbformat": 4,
 "nbformat_minor": 0
}
