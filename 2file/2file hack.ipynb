{
 "cells": [
  {
   "cell_type": "markdown",
   "metadata": {},
   "source": [
    "Playing around to do 2-file solution file-matching for LS (lumisection).\n",
    "\n",
    "To get JSON:\n",
    "\n",
    "```\n",
    "das_client.py --query=\"file,lumi dataset=/ttHTobb_M125_13TeV_powheg_pythia8/RunIIFall15DR76-25nsPUfixed30NzshcalRaw_76X_mcRun2_asymptotic_v12-v1/AODSIM\" --format=json --limit=100 > aod.json\n",
    "```\n",
    "\n",
    "```\n",
    "das_client.py --query=\"file,lumi dataset=/ttHTobb_M125_13TeV_powheg_pythia8/RunIIFall15DR76-25nsPUfixed30NzshcalRaw_76X_mcRun2_asymptotic_v12-v1/GEN-SIM-RAW\" --format=json --limit=100 > raw.json\n",
    "```"
   ]
  },
  {
   "cell_type": "code",
   "execution_count": 74,
   "metadata": {
    "collapsed": true
   },
   "outputs": [],
   "source": [
    "import json"
   ]
  },
  {
   "cell_type": "code",
   "execution_count": 2,
   "metadata": {
    "collapsed": true
   },
   "outputs": [],
   "source": [
    "with open('raw.json') as f:\n",
    "    raw_dict = json.load(f)\n",
    "\n",
    "with open('aod.json') as f:\n",
    "    aod_dict = json.load(f)"
   ]
  },
  {
   "cell_type": "markdown",
   "metadata": {},
   "source": [
    "# Exploration of JSON dicts"
   ]
  },
  {
   "cell_type": "code",
   "execution_count": 14,
   "metadata": {
    "collapsed": false
   },
   "outputs": [
    {
     "data": {
      "text/plain": [
       "[u'status',\n",
       " u'mongo_query',\n",
       " u'ctime',\n",
       " u'nresults',\n",
       " u'timestamp',\n",
       " u'incache',\n",
       " u'data',\n",
       " u'apilist']"
      ]
     },
     "execution_count": 14,
     "metadata": {},
     "output_type": "execute_result"
    }
   ],
   "source": [
    "raw_dict.keys()"
   ]
  },
  {
   "cell_type": "markdown",
   "metadata": {},
   "source": [
    "File are under the `data` key, stored as a list (1 entry = 1 file)."
   ]
  },
  {
   "cell_type": "code",
   "execution_count": 5,
   "metadata": {
    "collapsed": false
   },
   "outputs": [
    {
     "data": {
      "text/plain": [
       "list"
      ]
     },
     "execution_count": 5,
     "metadata": {},
     "output_type": "execute_result"
    }
   ],
   "source": [
    "type(raw_dict['data'])"
   ]
  },
  {
   "cell_type": "code",
   "execution_count": 6,
   "metadata": {
    "collapsed": false
   },
   "outputs": [
    {
     "data": {
      "text/plain": [
       "{u'_id': u'57123b74e139182c3b74d99b',\n",
       " u'cache_id': [u'571235a1e139182c3b742806'],\n",
       " u'das': {u'api': [u'file_lumi4dataset'],\n",
       "  u'condition_keys': [u'dataset.name'],\n",
       "  u'expire': 1460812780,\n",
       "  u'instance': u'prod/global',\n",
       "  u'primary_key': u'file.name',\n",
       "  u'record': 1,\n",
       "  u'services': [{u'dbs3': [u'dbs3']}],\n",
       "  u'system': [u'dbs3'],\n",
       "  u'ts': 1460812660.332109},\n",
       " u'das_id': [u'571235a0e139182c3b7427e8'],\n",
       " u'file': [{u'name': u'/store/mc/RunIIFall15DR76/ttHTobb_M125_13TeV_powheg_pythia8/GEN-SIM-RAW/25nsPUfixed30NzshcalRaw_76X_mcRun2_asymptotic_v12-v1/10000/0002DED1-DFC2-E511-BC7C-20CF3027A61A.root'}],\n",
       " u'lumi': [{u'number': [[589, 589],\n",
       "    [602, 602],\n",
       "    [609, 609],\n",
       "    [637, 637],\n",
       "    [10487, 10487],\n",
       "    [10498, 10498],\n",
       "    [10506, 10506],\n",
       "    [10511, 10511],\n",
       "    [10520, 10520],\n",
       "    [10543, 10543]]}],\n",
       " u'qhash': u'230da56b3426866bdcf25a94cbd97994'}"
      ]
     },
     "execution_count": 6,
     "metadata": {},
     "output_type": "execute_result"
    }
   ],
   "source": [
    "raw_dict['data'][0]"
   ]
  },
  {
   "cell_type": "code",
   "execution_count": 11,
   "metadata": {
    "collapsed": false
   },
   "outputs": [
    {
     "data": {
      "text/plain": [
       "u'/store/mc/RunIIFall15DR76/ttHTobb_M125_13TeV_powheg_pythia8/GEN-SIM-RAW/25nsPUfixed30NzshcalRaw_76X_mcRun2_asymptotic_v12-v1/10000/0002DED1-DFC2-E511-BC7C-20CF3027A61A.root'"
      ]
     },
     "execution_count": 11,
     "metadata": {},
     "output_type": "execute_result"
    }
   ],
   "source": [
    "raw_dict['data'][0]['file'][0]['name']"
   ]
  },
  {
   "cell_type": "code",
   "execution_count": 13,
   "metadata": {
    "collapsed": false
   },
   "outputs": [
    {
     "data": {
      "text/plain": [
       "[[589, 589],\n",
       " [602, 602],\n",
       " [609, 609],\n",
       " [637, 637],\n",
       " [10487, 10487],\n",
       " [10498, 10498],\n",
       " [10506, 10506],\n",
       " [10511, 10511],\n",
       " [10520, 10520],\n",
       " [10543, 10543]]"
      ]
     },
     "execution_count": 13,
     "metadata": {},
     "output_type": "execute_result"
    }
   ],
   "source": [
    "raw_dict['data'][0]['lumi'][0]['number']"
   ]
  },
  {
   "cell_type": "markdown",
   "metadata": {},
   "source": [
    "# Making our 2-file solution "
   ]
  },
  {
   "cell_type": "markdown",
   "metadata": {},
   "source": [
    "What we need to do:\n",
    "\n",
    "1) build a list of the AOD files, with LS for each\n",
    " \n",
    "2) make a list of RAW files for same dataset, with LS for each (is this necessary?)\n",
    "\n",
    "3) do matching: for each AOD file, find the RAW file(s) that cover the AOD file.\n",
    "\n",
    "4) ...\n",
    "\n",
    "5) profit?"
   ]
  },
  {
   "cell_type": "code",
   "execution_count": 22,
   "metadata": {
    "collapsed": true
   },
   "outputs": [],
   "source": [
    "# DatasetFile = namedtuple('DatasetFile', ['name', 'lumi'])"
   ]
  },
  {
   "cell_type": "code",
   "execution_count": 64,
   "metadata": {
    "collapsed": true
   },
   "outputs": [],
   "source": [
    "class DatasetFile(object):\n",
    "    \n",
    "    def __init__(self, name, lumi):\n",
    "        self.name = name\n",
    "        self.lumi = lumi\n",
    "        self.parents = []\n",
    "        \n",
    "    def has_lumi(self, ls):\n",
    "        \"\"\"Returns whether this \n",
    "        file contains lumisection `ls`\"\"\"\n",
    "        for lr in self.lumi:\n",
    "            if lr[0]<= ls <= lr[1]:\n",
    "                return True\n",
    "        return False\n",
    "    \n",
    "    def __repr__(self):\n",
    "        return 'DatasetFile(name=%s, lumi=%s, parents=%s)' %(self.name, self.lumi, self.parents)"
   ]
  },
  {
   "cell_type": "markdown",
   "metadata": {},
   "source": [
    "### 1) AOD file info"
   ]
  },
  {
   "cell_type": "code",
   "execution_count": 65,
   "metadata": {
    "collapsed": true
   },
   "outputs": [],
   "source": [
    "aod_files = [DatasetFile(name=entry['file'][0]['name'], lumi=entry['lumi'][0]['number']) for entry in aod_dict['data']]"
   ]
  },
  {
   "cell_type": "markdown",
   "metadata": {},
   "source": [
    "### 2) RAW file info"
   ]
  },
  {
   "cell_type": "code",
   "execution_count": 66,
   "metadata": {
    "collapsed": true
   },
   "outputs": [],
   "source": [
    "raw_files = [DatasetFile(name=entry['file'][0]['name'], lumi=entry['lumi'][0]['number']) for entry in raw_dict['data']]"
   ]
  },
  {
   "cell_type": "code",
   "execution_count": 67,
   "metadata": {
    "collapsed": false
   },
   "outputs": [
    {
     "data": {
      "text/plain": [
       "[DatasetFile(name=/store/mc/RunIIFall15DR76/ttHTobb_M125_13TeV_powheg_pythia8/AODSIM/25nsPUfixed30NzshcalRaw_76X_mcRun2_asymptotic_v12-v1/10000/04F64DC2-1DC3-E511-8C46-B083FED138B3.root, lumi=[[589, 589], [602, 602], [609, 609], [620, 620], [628, 628], [630, 631], [637, 637], [10480, 10480], [10486, 10487], [10498, 10498], [10506, 10506], [10511, 10511], [10516, 10517], [10520, 10521], [10541, 10543], [10545, 10546], [10548, 10548], [12864, 12864], [12886, 12886], [13021, 13021], [13023, 13023], [13040, 13040], [13043, 13043], [13527, 13527], [13534, 13534], [13536, 13536], [13545, 13545]], parents=[]),\n",
       " DatasetFile(name=/store/mc/RunIIFall15DR76/ttHTobb_M125_13TeV_powheg_pythia8/AODSIM/25nsPUfixed30NzshcalRaw_76X_mcRun2_asymptotic_v12-v1/10000/062B6ADF-2FC3-E511-B674-02163E012699.root, lumi=[[611, 611], [10494, 10494], [10501, 10501], [10505, 10505], [10547, 10547], [10552, 10554], [10557, 10558], [12801, 12802], [12804, 12804], [12806, 12806], [12844, 12844], [12850, 12850], [12885, 12885], [12893, 12893], [12896, 12896], [12901, 12901], [12988, 12988], [12992, 12992], [12996, 12996], [13012, 13012], [13595, 13595], [14403, 14403], [14408, 14408], [14426, 14427], [14429, 14429], [14440, 14440], [14445, 14445], [14455, 14455], [14485, 14485]], parents=[]),\n",
       " DatasetFile(name=/store/mc/RunIIFall15DR76/ttHTobb_M125_13TeV_powheg_pythia8/AODSIM/25nsPUfixed30NzshcalRaw_76X_mcRun2_asymptotic_v12-v1/10000/2E49303F-0AC3-E511-AB63-A4BADB1E6031.root, lumi=[[580, 580], [603, 603], [608, 608], [618, 618], [961, 961], [966, 966], [969, 969], [10423, 10423], [10463, 10463], [10560, 10560], [12947, 12947], [12960, 12960], [12987, 12987], [12993, 12993], [13016, 13016], [13026, 13026], [13029, 13029], [13033, 13033], [13036, 13036], [13044, 13045], [13047, 13047], [13049, 13049], [13051, 13051], [13056, 13056], [13059, 13059], [13061, 13061], [13539, 13539], [13581, 13581], [13585, 13585], [14461, 14461], [14469, 14469], [14476, 14476], [14482, 14484], [14486, 14486], [14503, 14503], [14509, 14509]], parents=[]),\n",
       " DatasetFile(name=/store/mc/RunIIFall15DR76/ttHTobb_M125_13TeV_powheg_pythia8/AODSIM/25nsPUfixed30NzshcalRaw_76X_mcRun2_asymptotic_v12-v1/10000/383C5EFF-78C3-E511-93FB-A4BADB1E763D.root, lumi=[[518, 518], [522, 522], [527, 527], [529, 529], [532, 532], [534, 534], [537, 538], [543, 543], [581, 581], [599, 600], [13042, 13042], [13050, 13050], [13053, 13054], [13582, 13582], [13596, 13596], [14444, 14444], [14446, 14446], [14448, 14448], [14452, 14454], [14456, 14457], [14464, 14464], [14466, 14466]], parents=[]),\n",
       " DatasetFile(name=/store/mc/RunIIFall15DR76/ttHTobb_M125_13TeV_powheg_pythia8/AODSIM/25nsPUfixed30NzshcalRaw_76X_mcRun2_asymptotic_v12-v1/10000/50FB0C53-12C4-E511-8EAA-90B11C0BD312.root, lumi=[[13525, 13526], [13531, 13531], [13546, 13546]], parents=[]),\n",
       " DatasetFile(name=/store/mc/RunIIFall15DR76/ttHTobb_M125_13TeV_powheg_pythia8/AODSIM/25nsPUfixed30NzshcalRaw_76X_mcRun2_asymptotic_v12-v1/10000/521C42AA-63C3-E511-91EB-02163E015EEB.root, lumi=[[493, 494], [496, 496], [508, 508], [512, 513], [516, 516], [525, 526], [542, 542], [566, 566], [577, 577], [4944, 4944], [5580, 5580], [6008, 6008], [6128, 6128], [8114, 8114], [8130, 8130], [8141, 8141], [10491, 10491], [10495, 10495], [10500, 10500], [10507, 10507], [12811, 12812], [12818, 12818], [12820, 12820], [12851, 12851], [12891, 12892], [12918, 12918], [12923, 12923], [13561, 13561], [13565, 13567]], parents=[]),\n",
       " DatasetFile(name=/store/mc/RunIIFall15DR76/ttHTobb_M125_13TeV_powheg_pythia8/AODSIM/25nsPUfixed30NzshcalRaw_76X_mcRun2_asymptotic_v12-v1/10000/5471CCF6-85C3-E511-B7F4-001E67C9AF97.root, lumi=[[499, 499], [502, 502], [504, 504], [507, 507], [509, 509], [514, 514], [520, 520], [528, 528], [564, 564], [571, 573], [10509, 10509], [10556, 10556], [12809, 12809], [12819, 12819], [13055, 13055], [13058, 13058], [13060, 13060], [14470, 14470], [14472, 14472], [14474, 14474], [14478, 14479], [14502, 14502], [14504, 14506]], parents=[]),\n",
       " DatasetFile(name=/store/mc/RunIIFall15DR76/ttHTobb_M125_13TeV_powheg_pythia8/AODSIM/25nsPUfixed30NzshcalRaw_76X_mcRun2_asymptotic_v12-v1/10000/5C0CEAC3-11C3-E511-92A7-B083FED045ED.root, lumi=[[7924, 7924], [7983, 7983], [8003, 8003], [8008, 8008], [12919, 12919], [12940, 12940], [12946, 12946], [12948, 12948], [12950, 12951], [12954, 12954], [12978, 12978], [12990, 12990], [13018, 13018], [13025, 13025], [13032, 13032], [13547, 13547], [13588, 13588], [13590, 13590], [13592, 13592], [13597, 13597], [14406, 14406], [14411, 14411], [14424, 14424], [14432, 14432], [14439, 14439], [14443, 14443], [14477, 14477], [14487, 14487], [14489, 14490], [14494, 14494]], parents=[]),\n",
       " DatasetFile(name=/store/mc/RunIIFall15DR76/ttHTobb_M125_13TeV_powheg_pythia8/AODSIM/25nsPUfixed30NzshcalRaw_76X_mcRun2_asymptotic_v12-v1/10000/5EEB47A4-33C3-E511-9FD5-001EC94B51EE.root, lumi=[[12956, 12956], [12973, 12973], [13007, 13007], [13013, 13013], [13522, 13522], [13540, 13540], [13548, 13548], [13555, 13556], [13571, 13571], [13573, 13573], [13587, 13587], [13589, 13589], [13599, 13599], [14401, 14401], [14405, 14405], [14409, 14409], [14412, 14412], [14415, 14415], [14419, 14419], [14434, 14435], [14438, 14438], [14442, 14442], [14467, 14467], [14475, 14475], [14488, 14488], [14491, 14491]], parents=[]),\n",
       " DatasetFile(name=/store/mc/RunIIFall15DR76/ttHTobb_M125_13TeV_powheg_pythia8/AODSIM/25nsPUfixed30NzshcalRaw_76X_mcRun2_asymptotic_v12-v1/10000/72AE2C83-1BC3-E511-9C5D-02163E013F45.root, lumi=[[604, 605], [607, 607], [613, 613], [10499, 10499], [10504, 10504], [12808, 12808], [12810, 12810], [12845, 12845], [12902, 12902], [12906, 12908], [12916, 12916], [12941, 12941], [12984, 12985], [13017, 13017], [13037, 13037], [14441, 14441], [14449, 14449], [14471, 14471], [14495, 14496], [14498, 14498], [14500, 14501]], parents=[]),\n",
       " DatasetFile(name=/store/mc/RunIIFall15DR76/ttHTobb_M125_13TeV_powheg_pythia8/AODSIM/25nsPUfixed30NzshcalRaw_76X_mcRun2_asymptotic_v12-v1/10000/74153D4E-12C4-E511-A534-2C600CAFEE6A.root, lumi=[[498, 498], [550, 550], [554, 555], [557, 557], [568, 568], [574, 574], [601, 601], [629, 629], [964, 965], [976, 976], [979, 979], [10471, 10471], [10479, 10479], [10513, 10513], [12849, 12849], [12859, 12859], [12869, 12869], [12890, 12890], [12894, 12894], [12899, 12899], [12910, 12910], [12939, 12939], [14492, 14493], [14499, 14499]], parents=[]),\n",
       " DatasetFile(name=/store/mc/RunIIFall15DR76/ttHTobb_M125_13TeV_powheg_pythia8/AODSIM/25nsPUfixed30NzshcalRaw_76X_mcRun2_asymptotic_v12-v1/10000/76B476DB-23C3-E511-8E74-02163E014889.root, lumi=[[972, 973], [975, 975], [10493, 10493], [10496, 10497], [10502, 10503], [10514, 10514], [10519, 10519], [10549, 10549], [12813, 12814], [12824, 12824], [12843, 12843], [12904, 12904], [12957, 12957], [12977, 12977], [12979, 12979], [12989, 12989], [12994, 12994], [12997, 12997], [12999, 12999], [13002, 13002], [13008, 13009], [13014, 13014], [13020, 13020], [13052, 13052], [13057, 13057], [13062, 13063], [14480, 14481]], parents=[]),\n",
       " DatasetFile(name=/store/mc/RunIIFall15DR76/ttHTobb_M125_13TeV_powheg_pythia8/AODSIM/25nsPUfixed30NzshcalRaw_76X_mcRun2_asymptotic_v12-v1/10000/9E93B6EF-45C3-E511-9475-02163E015E68.root, lumi=[[515, 515], [517, 517], [519, 519], [521, 521], [523, 523], [562, 562], [606, 606], [614, 616], [977, 977], [6135, 6135], [6245, 6245], [6475, 6475], [10515, 10515], [10522, 10523], [10544, 10544], [10550, 10551], [10555, 10555], [10559, 10559], [12803, 12803], [12805, 12805], [12848, 12848], [12862, 12862], [12867, 12868], [12924, 12924], [12927, 12927], [12934, 12935], [13001, 13001], [13004, 13004], [13006, 13006], [13010, 13010], [13028, 13028], [13034, 13034], [13046, 13046], [13600, 13600]], parents=[]),\n",
       " DatasetFile(name=/store/mc/RunIIFall15DR76/ttHTobb_M125_13TeV_powheg_pythia8/AODSIM/25nsPUfixed30NzshcalRaw_76X_mcRun2_asymptotic_v12-v1/10000/A03D030D-E9C3-E511-BB90-00259073E468.root, lumi=[[10508, 10508], [10510, 10510], [10512, 10512], [10518, 10518], [12929, 12929], [12932, 12932], [12944, 12945], [12958, 12958], [12961, 12962], [12970, 12970]], parents=[]),\n",
       " DatasetFile(name=/store/mc/RunIIFall15DR76/ttHTobb_M125_13TeV_powheg_pythia8/AODSIM/25nsPUfixed30NzshcalRaw_76X_mcRun2_asymptotic_v12-v1/10000/A075A55E-54C3-E511-9CF6-2C600CAFEFA8.root, lumi=[[497, 497], [503, 503], [505, 505], [510, 510], [524, 524], [535, 535], [556, 556], [560, 560], [12815, 12816], [12822, 12823], [12847, 12847], [12854, 12854], [12866, 12866], [12880, 12880], [12898, 12898], [12926, 12926], [12942, 12942], [12952, 12953], [12955, 12955], [12959, 12959], [12968, 12968], [12981, 12981], [12991, 12991], [13011, 13011], [13035, 13035], [13039, 13039], [13048, 13048], [14739, 14739]], parents=[]),\n",
       " DatasetFile(name=/store/mc/RunIIFall15DR76/ttHTobb_M125_13TeV_powheg_pythia8/AODSIM/25nsPUfixed30NzshcalRaw_76X_mcRun2_asymptotic_v12-v1/10000/A27057DD-7BC3-E511-8A9B-0025903D0B84.root, lumi=[[531, 531], [541, 541], [545, 545], [547, 547], [549, 549], [559, 559], [561, 561], [570, 570], [636, 636], [962, 963], [967, 967], [12857, 12857], [12865, 12865], [12883, 12884], [12889, 12889], [12911, 12911], [12915, 12915], [12925, 12925], [12930, 12930], [12964, 12967], [13030, 13031], [13038, 13038], [13041, 13041], [13523, 13523], [13530, 13530], [13532, 13532], [13537, 13537], [13541, 13541], [13580, 13580], [13594, 13594]], parents=[]),\n",
       " DatasetFile(name=/store/mc/RunIIFall15DR76/ttHTobb_M125_13TeV_powheg_pythia8/AODSIM/25nsPUfixed30NzshcalRaw_76X_mcRun2_asymptotic_v12-v1/10000/B0FC3065-21C3-E511-AB8E-0026B9392629.root, lumi=[[492, 492], [495, 495], [500, 501], [974, 974], [10476, 10476], [10490, 10490], [10492, 10492], [12971, 12971], [12974, 12974], [12982, 12983], [12986, 12986], [12998, 12998], [13000, 13000], [13005, 13005], [13521, 13521], [13524, 13524], [13535, 13535], [13558, 13560], [13569, 13570], [13572, 13572], [13577, 13579], [14507, 14508]], parents=[]),\n",
       " DatasetFile(name=/store/mc/RunIIFall15DR76/ttHTobb_M125_13TeV_powheg_pythia8/AODSIM/25nsPUfixed30NzshcalRaw_76X_mcRun2_asymptotic_v12-v1/10000/B222C010-28C3-E511-8D55-02163E01766F.root, lumi=[[548, 548], [569, 569], [623, 624], [626, 627], [968, 968], [970, 970], [12807, 12807], [12817, 12817], [12821, 12821], [12852, 12853], [12855, 12856], [12858, 12858], [12873, 12873], [12888, 12888], [12897, 12897], [12905, 12905], [13549, 13549], [13557, 13557], [13563, 13564], [13574, 13575], [13583, 13583], [14407, 14407]], parents=[]),\n",
       " DatasetFile(name=/store/mc/RunIIFall15DR76/ttHTobb_M125_13TeV_powheg_pythia8/AODSIM/25nsPUfixed30NzshcalRaw_76X_mcRun2_asymptotic_v12-v1/10000/C69E999E-21C3-E511-9EC5-02163E0115E6.root, lumi=[[551, 551], [584, 584], [587, 587], [619, 619], [622, 622], [978, 978], [7189, 7189], [8061, 8061], [12937, 12937], [12943, 12943], [13015, 13015], [13019, 13019], [13022, 13022], [13024, 13024], [13027, 13027], [14433, 14433], [14437, 14437], [14447, 14447], [14450, 14451], [14458, 14460], [14463, 14463], [14465, 14465], [14468, 14468], [14473, 14473]], parents=[]),\n",
       " DatasetFile(name=/store/mc/RunIIFall15DR76/ttHTobb_M125_13TeV_powheg_pythia8/AODSIM/25nsPUfixed30NzshcalRaw_76X_mcRun2_asymptotic_v12-v1/10000/EA404639-3CC3-E511-9890-02163E017642.root, lumi=[[506, 506], [511, 511], [563, 563], [567, 567], [610, 610], [612, 612], [621, 621], [635, 635], [638, 640], [971, 971], [12846, 12846], [12860, 12861], [12863, 12863], [12879, 12879], [12881, 12882], [12887, 12887], [12895, 12895], [12900, 12900], [12903, 12903], [12909, 12909], [12912, 12914], [12917, 12917], [12920, 12922], [12931, 12931], [12969, 12969], [12972, 12972], [12975, 12976], [13003, 13003], [13097, 13097], [14497, 14497]], parents=[])]"
      ]
     },
     "execution_count": 67,
     "metadata": {},
     "output_type": "execute_result"
    }
   ],
   "source": [
    "aod_files"
   ]
  },
  {
   "cell_type": "markdown",
   "metadata": {},
   "source": [
    "### 3) Method to retrieve file(s) for specified LS"
   ]
  },
  {
   "cell_type": "code",
   "execution_count": 68,
   "metadata": {
    "collapsed": true
   },
   "outputs": [],
   "source": [
    "def find_matching_ls_range(raw_files, ls_range):\n",
    "    \"\"\"Find all files that have lumisections \n",
    "    that fully cover ls_range.\n",
    "\n",
    "    Parameters\n",
    "    ----------\n",
    "    raw_files : list[DatasetFile]\n",
    "        List of files to match against.\n",
    "    ls_range : list[int, int]\n",
    "        Edges of lumisection range to match, e.g. [610, 621]\n",
    "        \n",
    "    Returns\n",
    "    -------\n",
    "    list[DatasetFile]\n",
    "        List of unique DatasetFiles that cover ls_range.\n",
    "    \"\"\"\n",
    "    matching_files = []\n",
    "    for ls in xrange(ls_range[0], ls_range[1] + 1):\n",
    "        matching_files.extend([f for f in raw_files if f.has_lumi(ls)])\n",
    "    return list(set(matching_files))\n",
    "\n",
    "\n",
    "def find_matching_files(raw_files, ls_ranges):\n",
    "    \"\"\"Find all files that cover all lumisections in ls_ranges\n",
    "\n",
    "    Parameters\n",
    "    ----------\n",
    "    raw_files : list[DatasetFile]\n",
    "        List of files to match against.\n",
    "    ls_range : list[list[int, int]]\n",
    "        List of edges of lumisection ranges to match, \n",
    "        e.g. [[610, 621], [701, 711]]\n",
    "        \n",
    "    Returns\n",
    "    -------\n",
    "    list[DatasetFile]\n",
    "        List of unique DatasetFiles that cover ls_ranges.\n",
    "        \n",
    "    Raises\n",
    "    ------\n",
    "    RuntimeError\n",
    "        If no files in `raw_files` match the lumisection.\n",
    "    \"\"\"\n",
    "    matching_files = []\n",
    "    for lsr in ls_ranges:\n",
    "        res = find_matching_ls_range(raw_files, lsr)\n",
    "        if not res:\n",
    "            raise RuntimeError('No matching RAW file for this LS %s' % lsr)\n",
    "        matching_files.extend(res)\n",
    "    return list(set(matching_files))"
   ]
  },
  {
   "cell_type": "code",
   "execution_count": 69,
   "metadata": {
    "collapsed": false
   },
   "outputs": [
    {
     "name": "stdout",
     "output_type": "stream",
     "text": [
      "[[589, 589], [602, 602], [609, 609], [620, 620], [628, 628], [630, 631], [637, 637], [10480, 10480], [10486, 10487], [10498, 10498], [10506, 10506], [10511, 10511], [10516, 10517], [10520, 10521], [10541, 10543], [10545, 10546], [10548, 10548], [12864, 12864], [12886, 12886], [13021, 13021], [13023, 13023], [13040, 13040], [13043, 13043], [13527, 13527], [13534, 13534], [13536, 13536], [13545, 13545]]\n"
     ]
    },
    {
     "data": {
      "text/plain": [
       "[DatasetFile(name=/store/mc/RunIIFall15DR76/ttHTobb_M125_13TeV_powheg_pythia8/GEN-SIM-RAW/25nsPUfixed30NzshcalRaw_76X_mcRun2_asymptotic_v12-v1/10000/3CDF872F-ECC2-E511-9F17-B083FED138B3.root, lumi=[[10480, 10480], [10486, 10486], [10516, 10517], [10521, 10521], [10541, 10542], [10546, 10546]], parents=[]),\n",
       " DatasetFile(name=/store/mc/RunIIFall15DR76/ttHTobb_M125_13TeV_powheg_pythia8/GEN-SIM-RAW/25nsPUfixed30NzshcalRaw_76X_mcRun2_asymptotic_v12-v1/10000/34DB90A2-EAC2-E511-BC26-20CF307C98DC.root, lumi=[[10545, 10545], [10548, 10548], [12864, 12864], [12886, 12886], [12929, 12929], [12932, 12932], [12945, 12945], [12958, 12958]], parents=[]),\n",
       " DatasetFile(name=/store/mc/RunIIFall15DR76/ttHTobb_M125_13TeV_powheg_pythia8/GEN-SIM-RAW/25nsPUfixed30NzshcalRaw_76X_mcRun2_asymptotic_v12-v1/10000/0002DED1-DFC2-E511-BC7C-20CF3027A61A.root, lumi=[[589, 589], [602, 602], [609, 609], [637, 637], [10487, 10487], [10498, 10498], [10506, 10506], [10511, 10511], [10520, 10520], [10543, 10543]], parents=[]),\n",
       " DatasetFile(name=/store/mc/RunIIFall15DR76/ttHTobb_M125_13TeV_powheg_pythia8/GEN-SIM-RAW/25nsPUfixed30NzshcalRaw_76X_mcRun2_asymptotic_v12-v1/10000/E826B915-EBC2-E511-BD5E-44A8422411EB.root, lumi=[[12944, 12944], [12961, 12962], [12970, 12970], [13021, 13021], [13023, 13023], [13040, 13040], [13043, 13043]], parents=[]),\n",
       " DatasetFile(name=/store/mc/RunIIFall15DR76/ttHTobb_M125_13TeV_powheg_pythia8/GEN-SIM-RAW/25nsPUfixed30NzshcalRaw_76X_mcRun2_asymptotic_v12-v1/10000/82B13FBA-F5C2-E511-9A1F-002590D5FFF2.root, lumi=[[620, 620], [628, 628], [630, 631], [13527, 13527], [13534, 13534], [13536, 13536], [13545, 13545]], parents=[])]"
      ]
     },
     "execution_count": 69,
     "metadata": {},
     "output_type": "execute_result"
    }
   ],
   "source": [
    "print aod_files[0].lumi\n",
    "find_matching_files(raw_files, aod_files[0].lumi)"
   ]
  },
  {
   "cell_type": "code",
   "execution_count": 72,
   "metadata": {
    "collapsed": false
   },
   "outputs": [
    {
     "name": "stdout",
     "output_type": "stream",
     "text": [
      "10 loops, best of 3: 68.8 ms per loop\n"
     ]
    }
   ],
   "source": [
    "%%timeit\n",
    "for f in aod_files:\n",
    "    f.parents = find_matching_files(raw_files, f.lumi)"
   ]
  },
  {
   "cell_type": "code",
   "execution_count": 73,
   "metadata": {
    "collapsed": false
   },
   "outputs": [
    {
     "data": {
      "text/plain": [
       "20"
      ]
     },
     "execution_count": 73,
     "metadata": {},
     "output_type": "execute_result"
    }
   ],
   "source": [
    "len(aod_files)"
   ]
  }
 ],
 "metadata": {
  "kernelspec": {
   "display_name": "Python 2",
   "language": "python",
   "name": "python2"
  },
  "language_info": {
   "codemirror_mode": {
    "name": "ipython",
    "version": 2
   },
   "file_extension": ".py",
   "mimetype": "text/x-python",
   "name": "python",
   "nbconvert_exporter": "python",
   "pygments_lexer": "ipython2",
   "version": "2.7.11"
  }
 },
 "nbformat": 4,
 "nbformat_minor": 0
}
