{
 "cells": [
  {
   "cell_type": "markdown",
   "metadata": {},
   "source": [
    "# The Potato Alphabet Shape Scandal\n",
    "\n",
    "(Not a Real Scandal)\n",
    "\n",
    "http://metro.co.uk/2016/12/06/furious-mum-makes-tesco-complaint-after-1-alphabet-potato-shapes-fail-to-spell-out-sons-name-6305575/\n",
    "\n",
    "So the question is: if the bags are filled randomly, what are the chances of being able to spell your name? (Or not)\n",
    "\n",
    "We can do this via Monte Carlo methods (lazy) or by proper maths (coffee required).\n",
    "\n",
    "For reference, let's say a bag has 50 shapes in it, and we want to spell \"LOGAN\". (But we can easily generalise). \n"
   ]
  },
  {
   "cell_type": "markdown",
   "metadata": {},
   "source": [
    "## Monte Carlo (MC) method"
   ]
  },
  {
   "cell_type": "markdown",
   "metadata": {},
   "source": [
    "Let us say there are $N_{shapes}$ letters in a bag.\n",
    "\n",
    "Method:\n",
    "\n",
    "- There are $26^{N_{shapes}}$ possible variations of bags of shapes\n",
    "- We will check how many of those have enough letters to spell the name\n",
    "- Since there may be a large number of variations, we will random create a \"bag\" of $N_{shapes}$. We assume each shape is equally likely.\n",
    "- Then we check if it contains our name, adding to a counter if it does. \n",
    "- We then do this $N_{iter}$ times. The probability is then $N_{success} / N_{iter}$\n",
    "- If $N_{iter}$ is large enough it should converge to the correct probability"
   ]
  },
  {
   "cell_type": "code",
   "execution_count": 5,
   "metadata": {
    "collapsed": true
   },
   "outputs": [],
   "source": [
    "from __future__ import print_function\n",
    "from string import ascii_uppercase\n",
    "import random"
   ]
  },
  {
   "cell_type": "code",
   "execution_count": 11,
   "metadata": {
    "collapsed": false
   },
   "outputs": [
    {
     "name": "stdout",
     "output_type": "stream",
     "text": [
      "There are in total 5.6E+70 combinations\n"
     ]
    }
   ],
   "source": [
    "print(\"There are in total {:.1E} combinations\".format(26**50))"
   ]
  },
  {
   "cell_type": "code",
   "execution_count": 39,
   "metadata": {
    "collapsed": false
   },
   "outputs": [
    {
     "data": {
      "text/plain": [
       "[1, 2, 3]"
      ]
     },
     "execution_count": 39,
     "metadata": {},
     "output_type": "execute_result"
    }
   ],
   "source": [
    "a = [1,1,2,3]\n",
    "a.remove(1)\n",
    "a"
   ]
  },
  {
   "cell_type": "code",
   "execution_count": 71,
   "metadata": {
    "collapsed": true
   },
   "outputs": [],
   "source": [
    "def name_in_bag(name, bag):\n",
    "    for n in name:\n",
    "        if n in bag:\n",
    "            bag.remove(n)\n",
    "        else:\n",
    "            return False\n",
    "    return True\n",
    "    \n",
    "    \n",
    "def probability_of_spelling_name(name, num_shapes, n_iterations):\n",
    "    name = name.upper()\n",
    "    success_counter = 0\n",
    "    for i in xrange(int(n_iterations)):\n",
    "        # generate bag\n",
    "        bag = [random.choice(ascii_uppercase) for i in xrange(num_shapes)]\n",
    "#         print(''.join(bag))\n",
    "        if name_in_bag(name, bag):\n",
    "            success_counter += 1\n",
    "#             print(\"Contains %s\" % name)\n",
    "\n",
    "    return 1.* success_counter / n_iterations"
   ]
  },
  {
   "cell_type": "code",
   "execution_count": 72,
   "metadata": {
    "collapsed": true
   },
   "outputs": [],
   "source": [
    "NAME = \"LOGAN\"\n",
    "NUM_SHAPES = 50"
   ]
  },
  {
   "cell_type": "code",
   "execution_count": 73,
   "metadata": {
    "collapsed": false,
    "scrolled": false
   },
   "outputs": [
    {
     "data": {
      "text/plain": [
       "0.4"
      ]
     },
     "execution_count": 73,
     "metadata": {},
     "output_type": "execute_result"
    }
   ],
   "source": [
    "probability_of_spelling_name(NAME, NUM_SHAPES, 10)"
   ]
  },
  {
   "cell_type": "markdown",
   "metadata": {},
   "source": [
    "Let's evalulate the probability for a range of iterations to check convergence"
   ]
  },
  {
   "cell_type": "code",
   "execution_count": 88,
   "metadata": {
    "collapsed": false
   },
   "outputs": [],
   "source": [
    "n_iters = [100, 1000, 5000, 10000, 50000, 100000, 500000, 1E6]\n",
    "probs_n_iters = [probability_of_spelling_name(NAME, NUM_SHAPES, n) for n in n_iters]"
   ]
  },
  {
   "cell_type": "code",
   "execution_count": 89,
   "metadata": {
    "collapsed": false
   },
   "outputs": [
    {
     "name": "stdout",
     "output_type": "stream",
     "text": [
      "N_iterations = 100, p = 0.330\n",
      "N_iterations = 1000, p = 0.451\n",
      "N_iterations = 5000, p = 0.460\n",
      "N_iterations = 10000, p = 0.455\n",
      "N_iterations = 50000, p = 0.456\n",
      "N_iterations = 100000, p = 0.458\n",
      "N_iterations = 500000, p = 0.458\n",
      "N_iterations = 1000000.0, p = 0.458\n"
     ]
    }
   ],
   "source": [
    "for n, p in zip(n_iters, probs_n_iters):\n",
    "    print(\"N_iterations = {}, p = {:.3f}\".format(n, p))"
   ]
  },
  {
   "cell_type": "code",
   "execution_count": 76,
   "metadata": {
    "collapsed": true
   },
   "outputs": [],
   "source": [
    "import matplotlib.pyplot as plt\n",
    "\n",
    "plt.style.use('bmh')\n",
    "\n",
    "%matplotlib inline"
   ]
  },
  {
   "cell_type": "code",
   "execution_count": 90,
   "metadata": {
    "collapsed": false
   },
   "outputs": [
    {
     "data": {
      "image/png": "[encoded data removed]",
      "text/plain": [
       "<matplotlib.figure.Figure at 0x105599f90>"
      ]
     },
     "metadata": {},
     "output_type": "display_data"
    }
   ],
   "source": [
    "plt.plot(n_iters, probs_n_iters)\n",
    "plt.xlabel(r\"$N_{iterations}$\")\n",
    "plt.ylabel(r\"$P$\")\n",
    "plt.suptitle(\"Probability to get {} in a bag of {} letters\".format(NAME, NUM_SHAPES))\n",
    "plt.xscale('log')\n",
    "plt.minorticks_on()\n",
    "# plt.grid(which='major')"
   ]
  },
  {
   "cell_type": "markdown",
   "metadata": {},
   "source": [
    "So it looks like it takes ~ $10^4$ iterations to converge, with a probability of 0.46. So it isn't that unusual to not get your name in a bag!"
   ]
  },
  {
   "cell_type": "markdown",
   "metadata": {},
   "source": [
    "Let's ask another question: how does the probability depend on the number of letters in the bag?"
   ]
  },
  {
   "cell_type": "code",
   "execution_count": 91,
   "metadata": {
    "collapsed": true
   },
   "outputs": [],
   "source": [
    "n_shapes = [10, 20, 30, 40, 50, 60, 70, 80, 90, 100, 110, 120, 130, 140, 150]\n",
    "probs_n_shapes = [probability_of_spelling_name(NAME, n, 10000) for n in n_shapes]"
   ]
  },
  {
   "cell_type": "code",
   "execution_count": 92,
   "metadata": {
    "collapsed": false
   },
   "outputs": [
    {
     "name": "stdout",
     "output_type": "stream",
     "text": [
      "10 shapes, p = 0.002\n",
      "20 shapes, p = 0.038\n",
      "30 shapes, p = 0.140\n",
      "40 shapes, p = 0.299\n",
      "50 shapes, p = 0.458\n",
      "60 shapes, p = 0.603\n",
      "70 shapes, p = 0.711\n",
      "80 shapes, p = 0.801\n",
      "90 shapes, p = 0.860\n",
      "100 shapes, p = 0.909\n",
      "110 shapes, p = 0.932\n",
      "120 shapes, p = 0.954\n",
      "130 shapes, p = 0.970\n",
      "140 shapes, p = 0.981\n",
      "150 shapes, p = 0.987\n"
     ]
    }
   ],
   "source": [
    "for n, p in zip(n_shapes, probs_n_shapes):\n",
    "    print(\"{} shapes, p = {:.3f}\".format(n, p))"
   ]
  },
  {
   "cell_type": "code",
   "execution_count": 93,
   "metadata": {
    "collapsed": false
   },
   "outputs": [
    {
     "data": {
      "image/png": "[encoded data removed]",
      "text/plain": [
       "<matplotlib.figure.Figure at 0x1054a3250>"
      ]
     },
     "metadata": {},
     "output_type": "display_data"
    }
   ],
   "source": [
    "plt.plot(n_shapes, probs_n_shapes)\n",
    "plt.xlabel(r\"$N_{shapes}$\")\n",
    "plt.ylabel(r\"$P$\")\n",
    "plt.suptitle(\"Probability to get {} in a bag\".format(NAME, NUM_SHAPES))\n",
    "plt.minorticks_on()"
   ]
  },
  {
   "cell_type": "markdown",
   "metadata": {},
   "source": [
    "So it looks like it takes ~120 shapes in a bag to have a 95% chance of getting your name!"
   ]
  },
  {
   "cell_type": "markdown",
   "metadata": {},
   "source": [
    "Let's do one final study, varying the name. Let's take the most common children names from 2015 form the ONS, and find some probabilities for each.\n",
    "\n",
    "Taken from http://www.independent.co.uk/news/uk/home-news/baby-names-top-100-most-popular-boys-and-girls-names-10459074.html\n",
    "\n",
    "Girls:\n",
    "\n",
    "- Amelia\n",
    "- Olivia\n",
    "- Isla\n",
    "- Emily\n",
    "- Poppy\n",
    "- Ava\n",
    "- Isabella\n",
    "- Jessica\n",
    "- Lily\n",
    "- Sophie\n",
    "\n",
    "Boys:\n",
    "\n",
    "- Oliver\n",
    "- Jack\n",
    "- Harry\n",
    "- Jacob\n",
    "- Charlie\n",
    "- Thomas\n",
    "- George\n",
    "- Oscar\n",
    "- James\n",
    "- William\n"
   ]
  },
  {
   "cell_type": "code",
   "execution_count": 95,
   "metadata": {
    "collapsed": false
   },
   "outputs": [],
   "source": [
    "girls = [\n",
    "    'Amelia',\n",
    "    'Olivia',\n",
    "    'Isla',\n",
    "    'Emily',\n",
    "    'Poppy',\n",
    "    'Ava',\n",
    "    'Isabella',\n",
    "    'Jessica',\n",
    "    'Lily',\n",
    "    'Sophie',\n",
    "]\n",
    "\n",
    "boys = [\n",
    "    'Oliver',\n",
    "    'Jack',\n",
    "    'Harry',\n",
    "    'Jacob',\n",
    "    'Charlie',\n",
    "    'Thomas',\n",
    "    'George',\n",
    "    'Oscar',\n",
    "    'James',\n",
    "    'William'\n",
    "]"
   ]
  },
  {
   "cell_type": "code",
   "execution_count": 142,
   "metadata": {
    "collapsed": true
   },
   "outputs": [],
   "source": [
    "prob_girls = [probability_of_spelling_name(g, NUM_SHAPES, 10000) for g in girls]\n",
    "prob_boys = [probability_of_spelling_name(b, NUM_SHAPES, 10000) for b in boys]"
   ]
  },
  {
   "cell_type": "code",
   "execution_count": 143,
   "metadata": {
    "collapsed": false
   },
   "outputs": [
    {
     "name": "stdout",
     "output_type": "stream",
     "text": [
      "Girls:\n",
      "  Amelia, p = 0.302\n",
      "  Olivia, p = 0.301\n",
      "  Isla, p = 0.546\n",
      "  Emily, p = 0.462\n",
      "  Poppy, p = 0.221\n",
      "  Ava, p = 0.495\n",
      "  Isabella, p = 0.172\n",
      "  Jessica, p = 0.253\n",
      "  Lily, p = 0.416\n",
      "  Sophie, p = 0.387\n",
      "Boys:\n",
      "  Oliver, p = 0.385\n",
      "  Jack, p = 0.540\n",
      "  Harry, p = 0.353\n",
      "  Jacob, p = 0.453\n",
      "  Charlie, p = 0.325\n",
      "  Thomas, p = 0.398\n",
      "  George, p = 0.229\n",
      "  Oscar, p = 0.460\n",
      "  James, p = 0.453\n",
      "  William, p = 0.206\n"
     ]
    }
   ],
   "source": [
    "print(\"Girls:\")\n",
    "for g, p in zip(girls, prob_girls):\n",
    "    print(\"  {}, p = {:.3f}\".format(g, p))\n",
    "print(\"Boys:\")\n",
    "for b, p in zip(boys, prob_boys):\n",
    "    print(\"  {}, p = {:.3f}\".format(b, p))"
   ]
  },
  {
   "cell_type": "code",
   "execution_count": 144,
   "metadata": {
    "collapsed": true
   },
   "outputs": [],
   "source": [
    "from collections import OrderedDict"
   ]
  },
  {
   "cell_type": "code",
   "execution_count": 145,
   "metadata": {
    "collapsed": false
   },
   "outputs": [],
   "source": [
    "# Use OrdereDict to sort by increasing probability, whilst keeping track of name\n",
    "boy_dict = {b: p for b, p in zip(boys, prob_boys)}\n",
    "boys_sorted = OrderedDict(sorted(boy_dict.items(), key=lambda t: t[1]))"
   ]
  },
  {
   "cell_type": "code",
   "execution_count": 146,
   "metadata": {
    "collapsed": false
   },
   "outputs": [
    {
     "data": {
      "text/plain": [
       "(-0.5, 9.5)"
      ]
     },
     "execution_count": 146,
     "metadata": {},
     "output_type": "execute_result"
    },
    {
     "data": {
      "image/png": "[encoded data removed]",
      "text/plain": [
       "<matplotlib.figure.Figure at 0x107902f90>"
      ]
     },
     "metadata": {},
     "output_type": "display_data"
    }
   ],
   "source": [
    "x = range(len(boys_sorted))\n",
    "plt.plot(x, boys_sorted.values(), 's')\n",
    "_ = plt.xticks(x, boys_sorted.keys(), rotation='vertical')\n",
    "plt.suptitle(\"Probability to get name in a pack of {} shapes (2015 top 10 girl's names)\".format(NUM_SHAPES))\n",
    "plt.ylabel(\"P\")\n",
    "plt.xlim(x[0]-0.5, x[-1]+0.5)"
   ]
  },
  {
   "cell_type": "code",
   "execution_count": 147,
   "metadata": {
    "collapsed": false
   },
   "outputs": [],
   "source": [
    "girl_dict = {g: p for g, p in zip(girls, prob_girls)}\n",
    "girls_sorted = OrderedDict(sorted(girl_dict.items(), key=lambda t: t[1]))"
   ]
  },
  {
   "cell_type": "code",
   "execution_count": 148,
   "metadata": {
    "collapsed": false
   },
   "outputs": [
    {
     "data": {
      "text/plain": [
       "(-0.5, 9.5)"
      ]
     },
     "execution_count": 148,
     "metadata": {},
     "output_type": "execute_result"
    },
    {
     "data": {
      "image/png": "[encoded data removed]",
      "text/plain": [
       "<matplotlib.figure.Figure at 0x1068695d0>"
      ]
     },
     "metadata": {},
     "output_type": "display_data"
    }
   ],
   "source": [
    "x = range(len(girls_sorted))\n",
    "plt.plot(x, girls_sorted.values(), 'or')\n",
    "_ = plt.xticks(x, girls_sorted.keys(), rotation='vertical')\n",
    "plt.suptitle(\"Probability to get name in a pack of {} shapes (2015 top 10 girl's names)\".format(NUM_SHAPES))\n",
    "plt.ylabel(\"P\")\n",
    "plt.xlim(x[0]-0.5, x[-1]+0.5)"
   ]
  },
  {
   "cell_type": "markdown",
   "metadata": {},
   "source": [
    "## The Proper Maths Part"
   ]
  },
  {
   "cell_type": "markdown",
   "metadata": {},
   "source": [
    "Let's define the probability of 1 letter being correct as $p = 1/26$.\n",
    "\n",
    "Then, our task is: in a bag of $N_{shapes}$ letters, what is the probability of being able to pick out our name of $m$ letters? (Note, we don't care about the rest of the letters, or duplicates)"
   ]
  },
  {
   "cell_type": "code",
   "execution_count": null,
   "metadata": {
    "collapsed": true
   },
   "outputs": [],
   "source": []
  }
 ],
 "metadata": {
  "kernelspec": {
   "display_name": "Python 2",
   "language": "python",
   "name": "python2"
  },
  "language_info": {
   "codemirror_mode": {
    "name": "ipython",
    "version": 2
   },
   "file_extension": ".py",
   "mimetype": "text/x-python",
   "name": "python",
   "nbconvert_exporter": "python",
   "pygments_lexer": "ipython2",
   "version": "2.7.12"
  }
 },
 "nbformat": 4,
 "nbformat_minor": 2
}
