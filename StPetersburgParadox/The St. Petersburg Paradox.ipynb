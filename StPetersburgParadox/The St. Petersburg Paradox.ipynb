{
 "cells": [
  {
   "cell_type": "markdown",
   "metadata": {},
   "source": [
    "# The St Petersburg Paradox"
   ]
  },
  {
   "cell_type": "code",
   "execution_count": 32,
   "metadata": {
    "collapsed": true
   },
   "outputs": [],
   "source": [
    "from collections import Counter\n",
    "from random import random\n",
    "import matplotlib.pyplot as plt\n",
    "\n",
    "%matplotlib inline"
   ]
  },
  {
   "cell_type": "markdown",
   "metadata": {},
   "source": [
    "See https://en.wikipedia.org/wiki/St._Petersburg_paradox\n",
    "\n",
    "A casino offers a game of chance for a single player in which a fair coin is tossed at each stage. The initial stake starts at 2 dollars and is doubled every time heads appears. The first time tails appears, the game ends and the player wins whatever is in the pot. Thus the player wins 2 dollars if tails appears on the first toss, 4 dollars if heads appears on the first toss and tails on the second, 8 dollars if heads appears on the first two tosses and tails on the third, and so on. Mathematically, the player wins 2k dollars, where k equals number of tosses (k must be a whole number and greater than zero). What would be a fair price to pay the casino for entering the game?\n",
    "\n",
    "To answer this, one needs to consider what would be the average payout: with probability $1/2$, the player wins 2 dollars; with probability $1/4$, the player wins 4 dollars; with probability $1/8$ the player wins 8 dollars, and so on. The expected value is thus\n",
    "\n",
    "\\begin{aligned}\n",
    "E&={\\frac {1}{2}}\\times 2+{\\frac {1}{4}}\\times 4+{\\frac {1}{8}}\\times 8+{\\frac {1}{16}}\\times 16+\\cdots \\\\&=1+1+1+1+\\cdots \\\\&=\\infty \\,.\n",
    "\\end{aligned}\n",
    "\n",
    "Assuming the game can continue as long as the coin toss results in heads and in particular that the casino has unlimited resources, this sum grows without bound and so the expected win for repeated play is an infinite amount of money. Considering nothing but the expected value of the net change in one's monetary wealth, one should therefore play the game at any price if offered the opportunity. "
   ]
  },
  {
   "cell_type": "markdown",
   "metadata": {},
   "source": [
    "Let's do this via MC methods."
   ]
  },
  {
   "cell_type": "code",
   "execution_count": 11,
   "metadata": {
    "collapsed": true
   },
   "outputs": [],
   "source": [
    "def play_game():\n",
    "    stake = 2\n",
    "    while random() > 0.5:\n",
    "        stake *= 2\n",
    "    return stake"
   ]
  },
  {
   "cell_type": "code",
   "execution_count": 27,
   "metadata": {
    "collapsed": true
   },
   "outputs": [],
   "source": [
    "N_GAMES = 1E5"
   ]
  },
  {
   "cell_type": "code",
   "execution_count": 29,
   "metadata": {
    "collapsed": false
   },
   "outputs": [],
   "source": [
    "winnings = [play_game() for i in xrange(int(N_GAMES))]"
   ]
  },
  {
   "cell_type": "code",
   "execution_count": 46,
   "metadata": {
    "collapsed": false
   },
   "outputs": [
    {
     "data": {
      "text/plain": [
       "<matplotlib.text.Text at 0x109e99f50>"
      ]
     },
     "execution_count": 46,
     "metadata": {},
     "output_type": "execute_result"
    },
    {
     "data": {
      "image/png": "[encoded data removed]",
      "text/plain": [
       "<matplotlib.figure.Figure at 0x10a9ad990>"
      ]
     },
     "metadata": {},
     "output_type": "display_data"
    }
   ],
   "source": [
    "_ = plt.hist(winnings, bins=40, range=[0, 40], normed=True)\n",
    "# plt.yscale('log')\n",
    "plt.xlabel(\"Winnings\")\n",
    "plt.xlim(0, 40)\n",
    "plt.ylabel(\"Fraction of games\")"
   ]
  },
  {
   "cell_type": "code",
   "execution_count": 54,
   "metadata": {
    "collapsed": false
   },
   "outputs": [
    {
     "name": "stdout",
     "output_type": "stream",
     "text": [
      "Average winnings: 23.13008\n"
     ]
    }
   ],
   "source": [
    "print \"Average winnings:\", sum(winnings) / N_GAMES"
   ]
  },
  {
   "cell_type": "code",
   "execution_count": 35,
   "metadata": {
    "collapsed": false
   },
   "outputs": [
    {
     "data": {
      "text/plain": [
       "[(2, 49942), (4, 25029), (8, 12404), (16, 6283), (32, 3155)]"
      ]
     },
     "execution_count": 35,
     "metadata": {},
     "output_type": "execute_result"
    }
   ],
   "source": [
    "c = Counter(winnings)\n",
    "c.most_common(5)"
   ]
  },
  {
   "cell_type": "code",
   "execution_count": 48,
   "metadata": {
    "collapsed": false
   },
   "outputs": [
    {
     "name": "stdout",
     "output_type": "stream",
     "text": [
      "Maximum won: 524288\n"
     ]
    }
   ],
   "source": [
    "print \"Maximum won:\", max(winnings)"
   ]
  },
  {
   "cell_type": "markdown",
   "metadata": {},
   "source": [
    "524288 is 2^19! So that's 18 heads in a row!"
   ]
  },
  {
   "cell_type": "code",
   "execution_count": 53,
   "metadata": {
    "collapsed": false
   },
   "outputs": [
    {
     "name": "stdout",
     "output_type": "stream",
     "text": [
      "Winnings \t Fraction of games\n",
      "2 \t 4.994e-01\n",
      "4 \t 2.503e-01\n",
      "8 \t 1.240e-01\n",
      "16 \t 6.283e-02\n",
      "32 \t 3.155e-02\n",
      "64 \t 1.635e-02\n",
      "128 \t 7.730e-03\n",
      "256 \t 4.220e-03\n",
      "512 \t 1.850e-03\n",
      "1024 \t 6.900e-04\n",
      "2048 \t 4.800e-04\n",
      "4096 \t 2.600e-04\n",
      "8192 \t 1.600e-04\n",
      "16384 \t 7.000e-05\n",
      "65536 \t 3.000e-05\n",
      "131072 \t 1.000e-05\n",
      "32768 \t 1.000e-05\n",
      "524288 \t 1.000e-05\n"
     ]
    }
   ],
   "source": [
    "print \"Winnings \\t Fraction of games\"\n",
    "for k,v in c.most_common(len(c)):\n",
    "    print \"{} \\t {:.3e}\".format(k, v/N_GAMES)"
   ]
  },
  {
   "cell_type": "markdown",
   "metadata": {},
   "source": [
    "So it looks like the average winnings is 23 dollars. But given that nearly half the games end with the first toss (as expected!) then I'd probably not even pay 10 dollars...\n",
    "\n",
    "The resolution to this paradox is of course that the sum of probabilities $(0.5  + 0.25  + 0.125 + \\cdots)$ does **not** sum to unity - the sum must be divided by $1/2 + 1/4 + 1/8 + 1/16 + \\cdots$ to correctly weight each probability"
   ]
  },
  {
   "cell_type": "code",
   "execution_count": null,
   "metadata": {
    "collapsed": true
   },
   "outputs": [],
   "source": []
  }
 ],
 "metadata": {
  "kernelspec": {
   "display_name": "Python 2",
   "language": "python",
   "name": "python2"
  },
  "language_info": {
   "codemirror_mode": {
    "name": "ipython",
    "version": 2
   },
   "file_extension": ".py",
   "mimetype": "text/x-python",
   "name": "python",
   "nbconvert_exporter": "python",
   "pygments_lexer": "ipython2",
   "version": "2.7.13"
  }
 },
 "nbformat": 4,
 "nbformat_minor": 2
}
