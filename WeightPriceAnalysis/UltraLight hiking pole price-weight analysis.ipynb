{
 "cells": [
  {
   "cell_type": "markdown",
   "metadata": {},
   "source": [
    "This quick notebook is to figure out if there is a correlation between hiking pole price & weight, using data from UltraLight Outdoor Gear's website."
   ]
  },
  {
   "cell_type": "code",
   "execution_count": 1,
   "metadata": {},
   "outputs": [],
   "source": [
    "import requests\n",
    "import lxml\n",
    "from bs4 import BeautifulSoup"
   ]
  },
  {
   "cell_type": "code",
   "execution_count": 96,
   "metadata": {},
   "outputs": [],
   "source": [
    "import numpy as np\n",
    "import matplotlib.pyplot as plt\n",
    "import matplotlib as mpl\n",
    "import scipy\n",
    "from scipy import stats\n",
    "import pandas as pd"
   ]
  },
  {
   "cell_type": "code",
   "execution_count": 75,
   "metadata": {},
   "outputs": [],
   "source": [
    "import re\n",
    "from itertools import chain"
   ]
  },
  {
   "cell_type": "code",
   "execution_count": 148,
   "metadata": {},
   "outputs": [],
   "source": [
    "mpl.rcParams['font.size'] = 16\n",
    "mpl.rcParams['figure.figsize'] = (10, 8)"
   ]
  },
  {
   "cell_type": "code",
   "execution_count": 3,
   "metadata": {},
   "outputs": [],
   "source": [
    "%notebook inline"
   ]
  },
  {
   "cell_type": "code",
   "execution_count": 85,
   "metadata": {},
   "outputs": [],
   "source": [
    "r = requests.get('https://www.ultralightoutdoorgear.co.uk/equipment-c3/trekking-poles-c67/all-trekking-poles-c168')\n"
   ]
  },
  {
   "cell_type": "code",
   "execution_count": 86,
   "metadata": {},
   "outputs": [],
   "source": [
    "with open('cache.html', 'w') as f:\n",
    "    f.write(r.text)"
   ]
  },
  {
   "cell_type": "code",
   "execution_count": 87,
   "metadata": {},
   "outputs": [],
   "source": [
    "with open(\"cache.html\") as fp:\n",
    "    soup = BeautifulSoup(fp)"
   ]
  },
  {
   "cell_type": "code",
   "execution_count": 152,
   "metadata": {},
   "outputs": [
    {
     "data": {
      "text/plain": [
       "<div class=\"product product--0 parent_product_id_8958\" data-infid=\"8958_175762\" data-productid=\"\" data-productreference=\"SS16A103\" id=\"product_8958_33368\">\n",
       "<div class=\"product__image\">\n",
       "<a class=\"infclick\" href=\"/equipment-c3/trekking-poles-c67/all-trekking-poles-c168/mountain-king-carbon-skyrunner-running-poles-p8958\" target=\"_top\" title=\"Carbon Skyrunner Running Poles\">\n",
       "<img alt=\"Carbon Skyrunner Running Poles\" class=\"lazyload\" data-sizes=\"(max-width: 768px) 40vw, (max-width: 1024px) 30vw, (max-width: 1056px) calc(((81.25vw - 1rem) - (10px + (1rem * 4))) / 4), (max-width: 1440px) calc(((81.25vw - 4rem) - (10px + (1rem * 4))) / 4), (max-width: 1504px) calc((((1440px - 4rem) / 100 * 81.25 - 10px) - (1rem * 4)) / 4), calc(((1440px / 100 * 81.25 - 10px) - (1rem * 4)) / 4)\" data-src=\"/images/products/thumbnails/1581341532-31023000.jpg\" data-srcset=\"/images/products/thumbnails/1581341532-31023000.jpg 371w, /images/products/medium/1581341531-95584700.jpg 665w\" height=\"371\" onload=\"typeof window.vs.debounce === 'function' &amp;&amp;\n",
       "                 typeof match_details_height === 'function' &amp;&amp;\n",
       "                 window.vs.debounce(match_details_height, 500)();\" src=\"data:image/gif;base64,R0lGODlhAQABAIAAAAAAAP///yH5BAEAAAAALAAAAAABAAEAAAIBRAA7\" width=\"371\"/>\n",
       "</a>\n",
       "<script>\n",
       "\n",
       "    if (typeof(AttributeColourSwatchDetails) == 'undefined') {\n",
       "      var AttributeColourSwatchDetails = [];\n",
       "    }\n",
       "\n",
       "    AttributeColourSwatchDetails[8958] = {\n",
       "      images: {},\n",
       "      prices: {},\n",
       "      image_alt_tags: {},\n",
       "      image_sets: {}    };\n",
       "  </script>\n",
       "</div>\n",
       "<div class=\"product__details__holder\">\n",
       "<div class=\"product__details\">\n",
       "<div class=\"product__details__title product__details__title--branded\">\n",
       "<a class=\"infclick\" href=\"/equipment-c3/trekking-poles-c67/all-trekking-poles-c168/mountain-king-carbon-skyrunner-running-poles-p8958\" title=\"Mountain King  Carbon Skyrunner Running Poles\">\n",
       "<span>                   Mountain King</span>\n",
       "                             Carbon Skyrunner Running Poles                      </a>\n",
       "</div>\n",
       "<a aria-label=\"Mountain King  Carbon Skyrunner Running Poles\" class=\"infclick\" href=\"/equipment-c3/trekking-poles-c67/all-trekking-poles-c168/mountain-king-carbon-skyrunner-running-poles-p8958\" title=\"Mountain King  Carbon Skyrunner Running Poles\">\n",
       "<span class=\"product__details__subtitle\">\n",
       "              Fixed Length / Non-Adjustable / Collapsible            </span>\n",
       "</a>\n",
       "<div class=\"product__weight\">Weighs 120g                               <span class=\"product__weight__tag\">(each pole)</span>\n",
       "</div>\n",
       "</div>\n",
       "<div class=\"product__options\">\n",
       "<div class=\"product__details__prices\">\n",
       "<span class=\"product__details__prices__price\">\n",
       "<span>\n",
       "<span class=\"product-content__price--inc\"><span class=\"GBP\" data-product-vat=\"19.99\">£114.99</span></span><span class=\"product-content__price--ex\" style=\"display:none;\"><span class=\"GBP\" data-product-vat=\"19.99\">£95.83</span></span></span>\n",
       "</span>\n",
       "</div>\n",
       "<div class=\"product__options__buttons\">\n",
       "<a class=\"product__options__view\" href=\"/equipment-c3/trekking-poles-c67/all-trekking-poles-c168/mountain-king-carbon-skyrunner-running-poles-p8958\" onclick=\"typeof openIframe==='function'&amp;&amp;openIframe('https://www.ultralightoutdoorgear.co.uk/quickbuy/8958');return false\">\n",
       "<span>Buy</span>\n",
       "</a>\n",
       "<a class=\"product__options__buy infclick\" href=\"/equipment-c3/trekking-poles-c67/all-trekking-poles-c168/mountain-king-carbon-skyrunner-running-poles-p8958\">\n",
       "<span>View</span>\n",
       "</a>\n",
       "</div>\n",
       "</div>\n",
       "</div>\n",
       "</div>"
      ]
     },
     "execution_count": 152,
     "metadata": {},
     "output_type": "execute_result"
    }
   ],
   "source": [
    "soup.find(class_='search-results-products__list').find_all(class_=\"product\")[0]"
   ]
  },
  {
   "cell_type": "code",
   "execution_count": 133,
   "metadata": {},
   "outputs": [],
   "source": [
    "# scrape the list of products and extract info\n",
    "results = []\n",
    "products = soup.find(class_='search-results-products__list').find_all(class_=\"product\")\n",
    "for prod in products:\n",
    "    name = prod.find_all('a', class_='infclick')[0].attrs['title']\n",
    "    \n",
    "    weight_txt = prod.find('div', class_=\"product__weight\").text\n",
    "    m = re.search(r'([0-9]+)g', weight_txt)\n",
    "    weight = float(m.group(1))\n",
    "    \n",
    "    price_txt = prod.find('span', class_='product-content__price--inc').text\n",
    "    price = float(price_txt.lstrip(\"£\"))\n",
    "\n",
    "    # skip already stored products\n",
    "    if any(r['name'] == name for r in results):\n",
    "        continue\n",
    "    \n",
    "    this_result = {\n",
    "        'name': name,\n",
    "        'weight': weight,\n",
    "        'price': price\n",
    "    }\n",
    "    results.append(this_result)"
   ]
  },
  {
   "cell_type": "code",
   "execution_count": 89,
   "metadata": {},
   "outputs": [
    {
     "data": {
      "text/plain": [
       "[{'name': 'Carbon Skyrunner Running Poles', 'weight': 120.0, 'price': 114.99},\n",
       " {'name': 'Trail Blaze Poles', 'weight': 134.0, 'price': 84.99},\n",
       " {'name': 'Distance Carbon Z Trekking Poles',\n",
       "  'weight': 148.0,\n",
       "  'price': 119.99},\n",
       " {'name': 'Compact Carbon Ultra Evo Running Poles',\n",
       "  'weight': 166.0,\n",
       "  'price': 101.99},\n",
       " {'name': 'Compact Trekking Poles', 'weight': 170.0, 'price': 65.99},\n",
       " {'name': 'Distance Carbon FLZ Trekking Poles',\n",
       "  'weight': 172.0,\n",
       "  'price': 139.99},\n",
       " {'name': 'Fastpacker Carbon Trekking Poles', 'weight': 174.0, 'price': 54.99},\n",
       " {'name': 'Compact 4 Trekking Poles', 'weight': 174.0, 'price': 69.99},\n",
       " {'name': 'Compact Pro Trekking Poles', 'weight': 175.0, 'price': 69.99},\n",
       " {'name': 'Passport TL Trekking Poles', 'weight': 178.0, 'price': 129.99},\n",
       " {'name': 'Trecime Carbon Trekking Poles', 'weight': 190.0, 'price': 54.99},\n",
       " {'name': 'Passport TL120 Trekking Poles', 'weight': 190.0, 'price': 144.99},\n",
       " {'name': 'Micro Stick Carbon Trekking Poles',\n",
       "  'weight': 194.0,\n",
       "  'price': 124.99},\n",
       " {'name': 'Distance Z Trekking Poles', 'weight': 200.0, 'price': 93.99},\n",
       " {'name': 'Sky Carbon Evo Trekking Poles', 'weight': 200.0, 'price': 114.99},\n",
       " {'name': 'Womens Distance FLZ Trekking Poles',\n",
       "  'weight': 222.0,\n",
       "  'price': 109.99},\n",
       " {'name': 'Alpine Carbon Z Trekking Poles', 'weight': 222.0, 'price': 139.99},\n",
       " {'name': 'Distance FLZ Trekking Poles', 'weight': 224.0, 'price': 109.99},\n",
       " {'name': 'Womens Micro Vario Carbon Trekking Poles',\n",
       "  'weight': 228.0,\n",
       "  'price': 152.99},\n",
       " {'name': 'Makalu Lite Trekking Poles', 'weight': 234.0, 'price': 86.99},\n",
       " {'name': 'DynaLock Ascent Carbon Poles', 'weight': 236.0, 'price': 119.99},\n",
       " {'name': 'Micro Vario Carbon Trekking Poles',\n",
       "  'weight': 240.0,\n",
       "  'price': 151.99},\n",
       " {'name': 'Womens Alpine Carbon Cork Trekking Poles',\n",
       "  'weight': 240.0,\n",
       "  'price': 129.99},\n",
       " {'name': 'Ridgeline LB135 Trekking Poles', 'weight': 242.0, 'price': 139.99}]"
      ]
     },
     "execution_count": 89,
     "metadata": {},
     "output_type": "execute_result"
    }
   ],
   "source": [
    "results"
   ]
  },
  {
   "cell_type": "code",
   "execution_count": 111,
   "metadata": {},
   "outputs": [],
   "source": [
    "df = pd.DataFrame(results)"
   ]
  },
  {
   "cell_type": "code",
   "execution_count": 136,
   "metadata": {},
   "outputs": [],
   "source": [
    "df['womens'] = df['name'].str.contains('Womens')"
   ]
  },
  {
   "cell_type": "code",
   "execution_count": 137,
   "metadata": {},
   "outputs": [
    {
     "data": {
      "text/html": [
       "<div>\n",
       "<style scoped>\n",
       "    .dataframe tbody tr th:only-of-type {\n",
       "        vertical-align: middle;\n",
       "    }\n",
       "\n",
       "    .dataframe tbody tr th {\n",
       "        vertical-align: top;\n",
       "    }\n",
       "\n",
       "    .dataframe thead th {\n",
       "        text-align: right;\n",
       "    }\n",
       "</style>\n",
       "<table border=\"1\" class=\"dataframe\">\n",
       "  <thead>\n",
       "    <tr style=\"text-align: right;\">\n",
       "      <th></th>\n",
       "      <th>name</th>\n",
       "      <th>weight</th>\n",
       "      <th>price</th>\n",
       "      <th>womens</th>\n",
       "    </tr>\n",
       "  </thead>\n",
       "  <tbody>\n",
       "    <tr>\n",
       "      <th>0</th>\n",
       "      <td>Carbon Skyrunner Running Poles</td>\n",
       "      <td>120.0</td>\n",
       "      <td>114.99</td>\n",
       "      <td>False</td>\n",
       "    </tr>\n",
       "    <tr>\n",
       "      <th>1</th>\n",
       "      <td>Trail Blaze Poles</td>\n",
       "      <td>134.0</td>\n",
       "      <td>84.99</td>\n",
       "      <td>False</td>\n",
       "    </tr>\n",
       "    <tr>\n",
       "      <th>2</th>\n",
       "      <td>Distance Carbon Z Trekking Poles</td>\n",
       "      <td>148.0</td>\n",
       "      <td>119.99</td>\n",
       "      <td>False</td>\n",
       "    </tr>\n",
       "    <tr>\n",
       "      <th>3</th>\n",
       "      <td>Compact Carbon Ultra Evo Running Poles</td>\n",
       "      <td>166.0</td>\n",
       "      <td>101.99</td>\n",
       "      <td>False</td>\n",
       "    </tr>\n",
       "    <tr>\n",
       "      <th>4</th>\n",
       "      <td>Compact Trekking Poles</td>\n",
       "      <td>170.0</td>\n",
       "      <td>65.99</td>\n",
       "      <td>False</td>\n",
       "    </tr>\n",
       "    <tr>\n",
       "      <th>5</th>\n",
       "      <td>Distance Carbon FLZ Trekking Poles</td>\n",
       "      <td>172.0</td>\n",
       "      <td>139.99</td>\n",
       "      <td>False</td>\n",
       "    </tr>\n",
       "    <tr>\n",
       "      <th>6</th>\n",
       "      <td>Fastpacker Carbon Trekking Poles</td>\n",
       "      <td>174.0</td>\n",
       "      <td>54.99</td>\n",
       "      <td>False</td>\n",
       "    </tr>\n",
       "    <tr>\n",
       "      <th>7</th>\n",
       "      <td>Compact 4 Trekking Poles</td>\n",
       "      <td>174.0</td>\n",
       "      <td>69.99</td>\n",
       "      <td>False</td>\n",
       "    </tr>\n",
       "    <tr>\n",
       "      <th>8</th>\n",
       "      <td>Compact Pro Trekking Poles</td>\n",
       "      <td>175.0</td>\n",
       "      <td>69.99</td>\n",
       "      <td>False</td>\n",
       "    </tr>\n",
       "    <tr>\n",
       "      <th>9</th>\n",
       "      <td>Passport TL Trekking Poles</td>\n",
       "      <td>178.0</td>\n",
       "      <td>129.99</td>\n",
       "      <td>False</td>\n",
       "    </tr>\n",
       "    <tr>\n",
       "      <th>10</th>\n",
       "      <td>Trecime Carbon Trekking Poles</td>\n",
       "      <td>190.0</td>\n",
       "      <td>54.99</td>\n",
       "      <td>False</td>\n",
       "    </tr>\n",
       "    <tr>\n",
       "      <th>11</th>\n",
       "      <td>Passport TL120 Trekking Poles</td>\n",
       "      <td>190.0</td>\n",
       "      <td>144.99</td>\n",
       "      <td>False</td>\n",
       "    </tr>\n",
       "    <tr>\n",
       "      <th>12</th>\n",
       "      <td>Micro Stick Carbon Trekking Poles</td>\n",
       "      <td>194.0</td>\n",
       "      <td>124.99</td>\n",
       "      <td>False</td>\n",
       "    </tr>\n",
       "    <tr>\n",
       "      <th>13</th>\n",
       "      <td>Distance Z Trekking Poles</td>\n",
       "      <td>200.0</td>\n",
       "      <td>93.99</td>\n",
       "      <td>False</td>\n",
       "    </tr>\n",
       "    <tr>\n",
       "      <th>14</th>\n",
       "      <td>Sky Carbon Evo Trekking Poles</td>\n",
       "      <td>200.0</td>\n",
       "      <td>114.99</td>\n",
       "      <td>False</td>\n",
       "    </tr>\n",
       "    <tr>\n",
       "      <th>15</th>\n",
       "      <td>Womens Distance FLZ Trekking Poles</td>\n",
       "      <td>222.0</td>\n",
       "      <td>109.99</td>\n",
       "      <td>True</td>\n",
       "    </tr>\n",
       "    <tr>\n",
       "      <th>16</th>\n",
       "      <td>Alpine Carbon Z Trekking Poles</td>\n",
       "      <td>222.0</td>\n",
       "      <td>139.99</td>\n",
       "      <td>False</td>\n",
       "    </tr>\n",
       "    <tr>\n",
       "      <th>17</th>\n",
       "      <td>Distance FLZ Trekking Poles</td>\n",
       "      <td>224.0</td>\n",
       "      <td>109.99</td>\n",
       "      <td>False</td>\n",
       "    </tr>\n",
       "    <tr>\n",
       "      <th>18</th>\n",
       "      <td>Womens Micro Vario Carbon Trekking Poles</td>\n",
       "      <td>228.0</td>\n",
       "      <td>152.99</td>\n",
       "      <td>True</td>\n",
       "    </tr>\n",
       "    <tr>\n",
       "      <th>19</th>\n",
       "      <td>Makalu Lite Trekking Poles</td>\n",
       "      <td>234.0</td>\n",
       "      <td>86.99</td>\n",
       "      <td>False</td>\n",
       "    </tr>\n",
       "    <tr>\n",
       "      <th>20</th>\n",
       "      <td>DynaLock Ascent Carbon Poles</td>\n",
       "      <td>236.0</td>\n",
       "      <td>119.99</td>\n",
       "      <td>False</td>\n",
       "    </tr>\n",
       "    <tr>\n",
       "      <th>21</th>\n",
       "      <td>Micro Vario Carbon Trekking Poles</td>\n",
       "      <td>240.0</td>\n",
       "      <td>151.99</td>\n",
       "      <td>False</td>\n",
       "    </tr>\n",
       "    <tr>\n",
       "      <th>22</th>\n",
       "      <td>Womens Alpine Carbon Cork Trekking Poles</td>\n",
       "      <td>240.0</td>\n",
       "      <td>129.99</td>\n",
       "      <td>True</td>\n",
       "    </tr>\n",
       "    <tr>\n",
       "      <th>23</th>\n",
       "      <td>Ridgeline LB135 Trekking Poles</td>\n",
       "      <td>242.0</td>\n",
       "      <td>139.99</td>\n",
       "      <td>False</td>\n",
       "    </tr>\n",
       "  </tbody>\n",
       "</table>\n",
       "</div>"
      ],
      "text/plain": [
       "                                        name  weight   price  womens\n",
       "0             Carbon Skyrunner Running Poles   120.0  114.99   False\n",
       "1                          Trail Blaze Poles   134.0   84.99   False\n",
       "2           Distance Carbon Z Trekking Poles   148.0  119.99   False\n",
       "3     Compact Carbon Ultra Evo Running Poles   166.0  101.99   False\n",
       "4                     Compact Trekking Poles   170.0   65.99   False\n",
       "5         Distance Carbon FLZ Trekking Poles   172.0  139.99   False\n",
       "6           Fastpacker Carbon Trekking Poles   174.0   54.99   False\n",
       "7                   Compact 4 Trekking Poles   174.0   69.99   False\n",
       "8                 Compact Pro Trekking Poles   175.0   69.99   False\n",
       "9                 Passport TL Trekking Poles   178.0  129.99   False\n",
       "10             Trecime Carbon Trekking Poles   190.0   54.99   False\n",
       "11             Passport TL120 Trekking Poles   190.0  144.99   False\n",
       "12         Micro Stick Carbon Trekking Poles   194.0  124.99   False\n",
       "13                 Distance Z Trekking Poles   200.0   93.99   False\n",
       "14             Sky Carbon Evo Trekking Poles   200.0  114.99   False\n",
       "15        Womens Distance FLZ Trekking Poles   222.0  109.99    True\n",
       "16            Alpine Carbon Z Trekking Poles   222.0  139.99   False\n",
       "17               Distance FLZ Trekking Poles   224.0  109.99   False\n",
       "18  Womens Micro Vario Carbon Trekking Poles   228.0  152.99    True\n",
       "19                Makalu Lite Trekking Poles   234.0   86.99   False\n",
       "20              DynaLock Ascent Carbon Poles   236.0  119.99   False\n",
       "21         Micro Vario Carbon Trekking Poles   240.0  151.99   False\n",
       "22  Womens Alpine Carbon Cork Trekking Poles   240.0  129.99    True\n",
       "23            Ridgeline LB135 Trekking Poles   242.0  139.99   False"
      ]
     },
     "execution_count": 137,
     "metadata": {},
     "output_type": "execute_result"
    }
   ],
   "source": [
    "df"
   ]
  },
  {
   "cell_type": "code",
   "execution_count": 138,
   "metadata": {},
   "outputs": [
    {
     "data": {
      "text/plain": [
       "name       object\n",
       "weight    float64\n",
       "price     float64\n",
       "womens       bool\n",
       "dtype: object"
      ]
     },
     "execution_count": 138,
     "metadata": {},
     "output_type": "execute_result"
    }
   ],
   "source": [
    "df.dtypes"
   ]
  },
  {
   "cell_type": "code",
   "execution_count": 139,
   "metadata": {},
   "outputs": [
    {
     "data": {
      "text/plain": [
       "24"
      ]
     },
     "execution_count": 139,
     "metadata": {},
     "output_type": "execute_result"
    }
   ],
   "source": [
    "len(df.index)"
   ]
  },
  {
   "cell_type": "code",
   "execution_count": 156,
   "metadata": {},
   "outputs": [
    {
     "name": "stdout",
     "output_type": "stream",
     "text": [
      "slope (i.e. g/£): 0.453969    intercept: 144.984331\n",
      "R-squared: 0.157622     p-value: 0.054738\n"
     ]
    },
    {
     "data": {
      "image/png": "[encoded data removed]",
      "text/plain": [
       "<Figure size 720x576 with 1 Axes>"
      ]
     },
     "metadata": {
      "needs_background": "light"
     },
     "output_type": "display_data"
    }
   ],
   "source": [
    "df_mens = df[df['womens'] == False]\n",
    "df_womens = df[df['womens'] == True]\n",
    "plt.scatter(df_mens['price'], df_mens['weight'], c='skyblue', marker='o', label=\"Men's\");\n",
    "plt.scatter(df_womens['price'], df_womens['weight'], c='orange', marker='x', label=\"Women's\");\n",
    "plt.xlabel('Price [£]')\n",
    "plt.ylabel('Weight [g]')\n",
    "\n",
    "# do a basic regression to mens+womens, as no real difference in pattern, and too few womens\n",
    "slope, intercept, r_value, p_value, std_err = scipy.stats.linregress(x=df['price'], y=df['weight'])\n",
    "print(\"slope (i.e. g/£): %f    intercept: %f\" % (slope, intercept))\n",
    "print(\"R-squared: %f     p-value: %f\" % (r_value**2, p_value))\n",
    "plt.plot(df['price'], intercept + slope*df['price'], 'r', label=\"Fitted line (all)\");\n",
    "plt.legend();"
   ]
  },
  {
   "cell_type": "markdown",
   "metadata": {},
   "source": [
    "So there is some very poor evidence for some weak positive correlation: that the **more expensive** poles are actually **heavier**, which is unexpected. Although the correlation is weak, we can at least say a more expensive pole isn't lighter, generally. I guess you're paying for stiffness/durability?"
   ]
  },
  {
   "cell_type": "markdown",
   "metadata": {},
   "source": [
    "TODO:\n",
    " - sort by folding vs non folding\n",
    " - sort by fixed length\n",
    " - plot by max length?\n",
    " - fix scraping (need > 24 results)"
   ]
  },
  {
   "cell_type": "code",
   "execution_count": null,
   "metadata": {},
   "outputs": [],
   "source": []
  }
 ],
 "metadata": {
  "kernelspec": {
   "display_name": "Python 3",
   "language": "python",
   "name": "python3"
  },
  "language_info": {
   "codemirror_mode": {
    "name": "ipython",
    "version": 3
   },
   "file_extension": ".py",
   "mimetype": "text/x-python",
   "name": "python",
   "nbconvert_exporter": "python",
   "pygments_lexer": "ipython3",
   "version": "3.7.5"
  }
 },
 "nbformat": 4,
 "nbformat_minor": 2
}
